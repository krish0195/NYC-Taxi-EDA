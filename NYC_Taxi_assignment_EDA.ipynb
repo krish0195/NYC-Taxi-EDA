{
  "cells": [
    {
      "cell_type": "code",
      "execution_count": 2,
      "metadata": {
        "colab": {
          "base_uri": "https://localhost:8080/",
          "height": 73
        },
        "id": "4XqSh7PIG12R",
        "outputId": "99093306-0b55-41e9-ff9a-5e9e0b02ca08"
      },
      "outputs": [
        {
          "output_type": "display_data",
          "data": {
            "text/plain": [
              "<IPython.core.display.HTML object>"
            ],
            "text/html": [
              "\n",
              "     <input type=\"file\" id=\"files-7968aa88-2a64-4e9e-a930-29473ecdef95\" name=\"files[]\" multiple disabled\n",
              "        style=\"border:none\" />\n",
              "     <output id=\"result-7968aa88-2a64-4e9e-a930-29473ecdef95\">\n",
              "      Upload widget is only available when the cell has been executed in the\n",
              "      current browser session. Please rerun this cell to enable.\n",
              "      </output>\n",
              "      <script>// Copyright 2017 Google LLC\n",
              "//\n",
              "// Licensed under the Apache License, Version 2.0 (the \"License\");\n",
              "// you may not use this file except in compliance with the License.\n",
              "// You may obtain a copy of the License at\n",
              "//\n",
              "//      http://www.apache.org/licenses/LICENSE-2.0\n",
              "//\n",
              "// Unless required by applicable law or agreed to in writing, software\n",
              "// distributed under the License is distributed on an \"AS IS\" BASIS,\n",
              "// WITHOUT WARRANTIES OR CONDITIONS OF ANY KIND, either express or implied.\n",
              "// See the License for the specific language governing permissions and\n",
              "// limitations under the License.\n",
              "\n",
              "/**\n",
              " * @fileoverview Helpers for google.colab Python module.\n",
              " */\n",
              "(function(scope) {\n",
              "function span(text, styleAttributes = {}) {\n",
              "  const element = document.createElement('span');\n",
              "  element.textContent = text;\n",
              "  for (const key of Object.keys(styleAttributes)) {\n",
              "    element.style[key] = styleAttributes[key];\n",
              "  }\n",
              "  return element;\n",
              "}\n",
              "\n",
              "// Max number of bytes which will be uploaded at a time.\n",
              "const MAX_PAYLOAD_SIZE = 100 * 1024;\n",
              "\n",
              "function _uploadFiles(inputId, outputId) {\n",
              "  const steps = uploadFilesStep(inputId, outputId);\n",
              "  const outputElement = document.getElementById(outputId);\n",
              "  // Cache steps on the outputElement to make it available for the next call\n",
              "  // to uploadFilesContinue from Python.\n",
              "  outputElement.steps = steps;\n",
              "\n",
              "  return _uploadFilesContinue(outputId);\n",
              "}\n",
              "\n",
              "// This is roughly an async generator (not supported in the browser yet),\n",
              "// where there are multiple asynchronous steps and the Python side is going\n",
              "// to poll for completion of each step.\n",
              "// This uses a Promise to block the python side on completion of each step,\n",
              "// then passes the result of the previous step as the input to the next step.\n",
              "function _uploadFilesContinue(outputId) {\n",
              "  const outputElement = document.getElementById(outputId);\n",
              "  const steps = outputElement.steps;\n",
              "\n",
              "  const next = steps.next(outputElement.lastPromiseValue);\n",
              "  return Promise.resolve(next.value.promise).then((value) => {\n",
              "    // Cache the last promise value to make it available to the next\n",
              "    // step of the generator.\n",
              "    outputElement.lastPromiseValue = value;\n",
              "    return next.value.response;\n",
              "  });\n",
              "}\n",
              "\n",
              "/**\n",
              " * Generator function which is called between each async step of the upload\n",
              " * process.\n",
              " * @param {string} inputId Element ID of the input file picker element.\n",
              " * @param {string} outputId Element ID of the output display.\n",
              " * @return {!Iterable<!Object>} Iterable of next steps.\n",
              " */\n",
              "function* uploadFilesStep(inputId, outputId) {\n",
              "  const inputElement = document.getElementById(inputId);\n",
              "  inputElement.disabled = false;\n",
              "\n",
              "  const outputElement = document.getElementById(outputId);\n",
              "  outputElement.innerHTML = '';\n",
              "\n",
              "  const pickedPromise = new Promise((resolve) => {\n",
              "    inputElement.addEventListener('change', (e) => {\n",
              "      resolve(e.target.files);\n",
              "    });\n",
              "  });\n",
              "\n",
              "  const cancel = document.createElement('button');\n",
              "  inputElement.parentElement.appendChild(cancel);\n",
              "  cancel.textContent = 'Cancel upload';\n",
              "  const cancelPromise = new Promise((resolve) => {\n",
              "    cancel.onclick = () => {\n",
              "      resolve(null);\n",
              "    };\n",
              "  });\n",
              "\n",
              "  // Wait for the user to pick the files.\n",
              "  const files = yield {\n",
              "    promise: Promise.race([pickedPromise, cancelPromise]),\n",
              "    response: {\n",
              "      action: 'starting',\n",
              "    }\n",
              "  };\n",
              "\n",
              "  cancel.remove();\n",
              "\n",
              "  // Disable the input element since further picks are not allowed.\n",
              "  inputElement.disabled = true;\n",
              "\n",
              "  if (!files) {\n",
              "    return {\n",
              "      response: {\n",
              "        action: 'complete',\n",
              "      }\n",
              "    };\n",
              "  }\n",
              "\n",
              "  for (const file of files) {\n",
              "    const li = document.createElement('li');\n",
              "    li.append(span(file.name, {fontWeight: 'bold'}));\n",
              "    li.append(span(\n",
              "        `(${file.type || 'n/a'}) - ${file.size} bytes, ` +\n",
              "        `last modified: ${\n",
              "            file.lastModifiedDate ? file.lastModifiedDate.toLocaleDateString() :\n",
              "                                    'n/a'} - `));\n",
              "    const percent = span('0% done');\n",
              "    li.appendChild(percent);\n",
              "\n",
              "    outputElement.appendChild(li);\n",
              "\n",
              "    const fileDataPromise = new Promise((resolve) => {\n",
              "      const reader = new FileReader();\n",
              "      reader.onload = (e) => {\n",
              "        resolve(e.target.result);\n",
              "      };\n",
              "      reader.readAsArrayBuffer(file);\n",
              "    });\n",
              "    // Wait for the data to be ready.\n",
              "    let fileData = yield {\n",
              "      promise: fileDataPromise,\n",
              "      response: {\n",
              "        action: 'continue',\n",
              "      }\n",
              "    };\n",
              "\n",
              "    // Use a chunked sending to avoid message size limits. See b/62115660.\n",
              "    let position = 0;\n",
              "    do {\n",
              "      const length = Math.min(fileData.byteLength - position, MAX_PAYLOAD_SIZE);\n",
              "      const chunk = new Uint8Array(fileData, position, length);\n",
              "      position += length;\n",
              "\n",
              "      const base64 = btoa(String.fromCharCode.apply(null, chunk));\n",
              "      yield {\n",
              "        response: {\n",
              "          action: 'append',\n",
              "          file: file.name,\n",
              "          data: base64,\n",
              "        },\n",
              "      };\n",
              "\n",
              "      let percentDone = fileData.byteLength === 0 ?\n",
              "          100 :\n",
              "          Math.round((position / fileData.byteLength) * 100);\n",
              "      percent.textContent = `${percentDone}% done`;\n",
              "\n",
              "    } while (position < fileData.byteLength);\n",
              "  }\n",
              "\n",
              "  // All done.\n",
              "  yield {\n",
              "    response: {\n",
              "      action: 'complete',\n",
              "    }\n",
              "  };\n",
              "}\n",
              "\n",
              "scope.google = scope.google || {};\n",
              "scope.google.colab = scope.google.colab || {};\n",
              "scope.google.colab._files = {\n",
              "  _uploadFiles,\n",
              "  _uploadFilesContinue,\n",
              "};\n",
              "})(self);\n",
              "</script> "
            ]
          },
          "metadata": {}
        },
        {
          "output_type": "stream",
          "name": "stdout",
          "text": [
            "Saving nyc_taxi_trip_duration.csv to nyc_taxi_trip_duration.csv\n"
          ]
        }
      ],
      "source": [
        "from google.colab import files\n",
        "uploaded = files.upload()"
      ]
    },
    {
      "cell_type": "code",
      "execution_count": 77,
      "metadata": {
        "id": "-89LCQfbOWxS"
      },
      "outputs": [],
      "source": [
        "import numpy as np # linear algebra\n",
        "import pandas as pd # data processing, CSV file I/O (e.g. pd.read_csv)\n",
        "import matplotlib.pyplot as plt\n",
        "import seaborn as sns\n",
        "%matplotlib inline\n",
        "import zipfile\n",
        "import io\n",
        "df = pd.read_csv(io.BytesIO(uploaded['nyc_taxi_trip_duration.csv']))\n",
        "# Dataset is now stored in a Pandas Dataframe"
      ]
    },
    {
      "cell_type": "code",
      "execution_count": 78,
      "metadata": {
        "colab": {
          "base_uri": "https://localhost:8080/"
        },
        "id": "pRtR8yWzKjbZ",
        "outputId": "47da15a0-6f04-4c8c-b90e-a1638b64b44b"
      },
      "outputs": [
        {
          "output_type": "execute_result",
          "data": {
            "text/plain": [
              "(729322, 11)"
            ]
          },
          "metadata": {},
          "execution_count": 78
        }
      ],
      "source": [
        "df.shape"
      ]
    },
    {
      "cell_type": "code",
      "execution_count": 79,
      "metadata": {
        "colab": {
          "base_uri": "https://localhost:8080/",
          "height": 206
        },
        "id": "SLvpB7xIKupb",
        "outputId": "2caa6d1b-199e-4033-cb20-7a2a7108cf64"
      },
      "outputs": [
        {
          "output_type": "execute_result",
          "data": {
            "text/plain": [
              "          id  vendor_id  pickup_datetime dropoff_datetime  passenger_count  \\\n",
              "0  id1080784          2  2/29/2016 16:40  2/29/2016 16:47                1   \n",
              "1  id0889885          1  3/11/2016 23:35  3/11/2016 23:53                2   \n",
              "2  id0857912          2  2/21/2016 17:59  2/21/2016 18:26                2   \n",
              "3  id3744273          2    1/5/2016 9:44   1/5/2016 10:03                6   \n",
              "4  id0232939          1   2/17/2016 6:42   2/17/2016 6:56                1   \n",
              "\n",
              "   pickup_longitude  pickup_latitude  dropoff_longitude  dropoff_latitude  \\\n",
              "0        -73.953918        40.778873         -73.963875         40.771164   \n",
              "1        -73.988312        40.731743         -73.994751         40.694931   \n",
              "2        -73.997314        40.721458         -73.948029         40.774918   \n",
              "3        -73.961670        40.759720         -73.956779         40.780628   \n",
              "4        -74.017120        40.708469         -73.988182         40.740631   \n",
              "\n",
              "  store_and_fwd_flag  trip_duration  \n",
              "0                  N            400  \n",
              "1                  N           1100  \n",
              "2                  N           1635  \n",
              "3                  N           1141  \n",
              "4                  N            848  "
            ],
            "text/html": [
              "\n",
              "  <div id=\"df-f9e82281-afa1-4a19-94de-99e7001e21eb\">\n",
              "    <div class=\"colab-df-container\">\n",
              "      <div>\n",
              "<style scoped>\n",
              "    .dataframe tbody tr th:only-of-type {\n",
              "        vertical-align: middle;\n",
              "    }\n",
              "\n",
              "    .dataframe tbody tr th {\n",
              "        vertical-align: top;\n",
              "    }\n",
              "\n",
              "    .dataframe thead th {\n",
              "        text-align: right;\n",
              "    }\n",
              "</style>\n",
              "<table border=\"1\" class=\"dataframe\">\n",
              "  <thead>\n",
              "    <tr style=\"text-align: right;\">\n",
              "      <th></th>\n",
              "      <th>id</th>\n",
              "      <th>vendor_id</th>\n",
              "      <th>pickup_datetime</th>\n",
              "      <th>dropoff_datetime</th>\n",
              "      <th>passenger_count</th>\n",
              "      <th>pickup_longitude</th>\n",
              "      <th>pickup_latitude</th>\n",
              "      <th>dropoff_longitude</th>\n",
              "      <th>dropoff_latitude</th>\n",
              "      <th>store_and_fwd_flag</th>\n",
              "      <th>trip_duration</th>\n",
              "    </tr>\n",
              "  </thead>\n",
              "  <tbody>\n",
              "    <tr>\n",
              "      <th>0</th>\n",
              "      <td>id1080784</td>\n",
              "      <td>2</td>\n",
              "      <td>2/29/2016 16:40</td>\n",
              "      <td>2/29/2016 16:47</td>\n",
              "      <td>1</td>\n",
              "      <td>-73.953918</td>\n",
              "      <td>40.778873</td>\n",
              "      <td>-73.963875</td>\n",
              "      <td>40.771164</td>\n",
              "      <td>N</td>\n",
              "      <td>400</td>\n",
              "    </tr>\n",
              "    <tr>\n",
              "      <th>1</th>\n",
              "      <td>id0889885</td>\n",
              "      <td>1</td>\n",
              "      <td>3/11/2016 23:35</td>\n",
              "      <td>3/11/2016 23:53</td>\n",
              "      <td>2</td>\n",
              "      <td>-73.988312</td>\n",
              "      <td>40.731743</td>\n",
              "      <td>-73.994751</td>\n",
              "      <td>40.694931</td>\n",
              "      <td>N</td>\n",
              "      <td>1100</td>\n",
              "    </tr>\n",
              "    <tr>\n",
              "      <th>2</th>\n",
              "      <td>id0857912</td>\n",
              "      <td>2</td>\n",
              "      <td>2/21/2016 17:59</td>\n",
              "      <td>2/21/2016 18:26</td>\n",
              "      <td>2</td>\n",
              "      <td>-73.997314</td>\n",
              "      <td>40.721458</td>\n",
              "      <td>-73.948029</td>\n",
              "      <td>40.774918</td>\n",
              "      <td>N</td>\n",
              "      <td>1635</td>\n",
              "    </tr>\n",
              "    <tr>\n",
              "      <th>3</th>\n",
              "      <td>id3744273</td>\n",
              "      <td>2</td>\n",
              "      <td>1/5/2016 9:44</td>\n",
              "      <td>1/5/2016 10:03</td>\n",
              "      <td>6</td>\n",
              "      <td>-73.961670</td>\n",
              "      <td>40.759720</td>\n",
              "      <td>-73.956779</td>\n",
              "      <td>40.780628</td>\n",
              "      <td>N</td>\n",
              "      <td>1141</td>\n",
              "    </tr>\n",
              "    <tr>\n",
              "      <th>4</th>\n",
              "      <td>id0232939</td>\n",
              "      <td>1</td>\n",
              "      <td>2/17/2016 6:42</td>\n",
              "      <td>2/17/2016 6:56</td>\n",
              "      <td>1</td>\n",
              "      <td>-74.017120</td>\n",
              "      <td>40.708469</td>\n",
              "      <td>-73.988182</td>\n",
              "      <td>40.740631</td>\n",
              "      <td>N</td>\n",
              "      <td>848</td>\n",
              "    </tr>\n",
              "  </tbody>\n",
              "</table>\n",
              "</div>\n",
              "      <button class=\"colab-df-convert\" onclick=\"convertToInteractive('df-f9e82281-afa1-4a19-94de-99e7001e21eb')\"\n",
              "              title=\"Convert this dataframe to an interactive table.\"\n",
              "              style=\"display:none;\">\n",
              "        \n",
              "  <svg xmlns=\"http://www.w3.org/2000/svg\" height=\"24px\"viewBox=\"0 0 24 24\"\n",
              "       width=\"24px\">\n",
              "    <path d=\"M0 0h24v24H0V0z\" fill=\"none\"/>\n",
              "    <path d=\"M18.56 5.44l.94 2.06.94-2.06 2.06-.94-2.06-.94-.94-2.06-.94 2.06-2.06.94zm-11 1L8.5 8.5l.94-2.06 2.06-.94-2.06-.94L8.5 2.5l-.94 2.06-2.06.94zm10 10l.94 2.06.94-2.06 2.06-.94-2.06-.94-.94-2.06-.94 2.06-2.06.94z\"/><path d=\"M17.41 7.96l-1.37-1.37c-.4-.4-.92-.59-1.43-.59-.52 0-1.04.2-1.43.59L10.3 9.45l-7.72 7.72c-.78.78-.78 2.05 0 2.83L4 21.41c.39.39.9.59 1.41.59.51 0 1.02-.2 1.41-.59l7.78-7.78 2.81-2.81c.8-.78.8-2.07 0-2.86zM5.41 20L4 18.59l7.72-7.72 1.47 1.35L5.41 20z\"/>\n",
              "  </svg>\n",
              "      </button>\n",
              "      \n",
              "  <style>\n",
              "    .colab-df-container {\n",
              "      display:flex;\n",
              "      flex-wrap:wrap;\n",
              "      gap: 12px;\n",
              "    }\n",
              "\n",
              "    .colab-df-convert {\n",
              "      background-color: #E8F0FE;\n",
              "      border: none;\n",
              "      border-radius: 50%;\n",
              "      cursor: pointer;\n",
              "      display: none;\n",
              "      fill: #1967D2;\n",
              "      height: 32px;\n",
              "      padding: 0 0 0 0;\n",
              "      width: 32px;\n",
              "    }\n",
              "\n",
              "    .colab-df-convert:hover {\n",
              "      background-color: #E2EBFA;\n",
              "      box-shadow: 0px 1px 2px rgba(60, 64, 67, 0.3), 0px 1px 3px 1px rgba(60, 64, 67, 0.15);\n",
              "      fill: #174EA6;\n",
              "    }\n",
              "\n",
              "    [theme=dark] .colab-df-convert {\n",
              "      background-color: #3B4455;\n",
              "      fill: #D2E3FC;\n",
              "    }\n",
              "\n",
              "    [theme=dark] .colab-df-convert:hover {\n",
              "      background-color: #434B5C;\n",
              "      box-shadow: 0px 1px 3px 1px rgba(0, 0, 0, 0.15);\n",
              "      filter: drop-shadow(0px 1px 2px rgba(0, 0, 0, 0.3));\n",
              "      fill: #FFFFFF;\n",
              "    }\n",
              "  </style>\n",
              "\n",
              "      <script>\n",
              "        const buttonEl =\n",
              "          document.querySelector('#df-f9e82281-afa1-4a19-94de-99e7001e21eb button.colab-df-convert');\n",
              "        buttonEl.style.display =\n",
              "          google.colab.kernel.accessAllowed ? 'block' : 'none';\n",
              "\n",
              "        async function convertToInteractive(key) {\n",
              "          const element = document.querySelector('#df-f9e82281-afa1-4a19-94de-99e7001e21eb');\n",
              "          const dataTable =\n",
              "            await google.colab.kernel.invokeFunction('convertToInteractive',\n",
              "                                                     [key], {});\n",
              "          if (!dataTable) return;\n",
              "\n",
              "          const docLinkHtml = 'Like what you see? Visit the ' +\n",
              "            '<a target=\"_blank\" href=https://colab.research.google.com/notebooks/data_table.ipynb>data table notebook</a>'\n",
              "            + ' to learn more about interactive tables.';\n",
              "          element.innerHTML = '';\n",
              "          dataTable['output_type'] = 'display_data';\n",
              "          await google.colab.output.renderOutput(dataTable, element);\n",
              "          const docLink = document.createElement('div');\n",
              "          docLink.innerHTML = docLinkHtml;\n",
              "          element.appendChild(docLink);\n",
              "        }\n",
              "      </script>\n",
              "    </div>\n",
              "  </div>\n",
              "  "
            ]
          },
          "metadata": {},
          "execution_count": 79
        }
      ],
      "source": [
        "df.head(5)"
      ]
    },
    {
      "cell_type": "code",
      "execution_count": 80,
      "metadata": {
        "colab": {
          "base_uri": "https://localhost:8080/"
        },
        "id": "t2S5KYGXK78z",
        "outputId": "ced03778-7c19-4b6b-de44-227600e988bb"
      },
      "outputs": [
        {
          "output_type": "execute_result",
          "data": {
            "text/plain": [
              "Index(['id', 'vendor_id', 'pickup_datetime', 'dropoff_datetime',\n",
              "       'passenger_count', 'pickup_longitude', 'pickup_latitude',\n",
              "       'dropoff_longitude', 'dropoff_latitude', 'store_and_fwd_flag',\n",
              "       'trip_duration'],\n",
              "      dtype='object')"
            ]
          },
          "metadata": {},
          "execution_count": 80
        }
      ],
      "source": [
        "df.columns\n"
      ]
    },
    {
      "cell_type": "code",
      "execution_count": 81,
      "metadata": {
        "colab": {
          "base_uri": "https://localhost:8080/"
        },
        "id": "s8lCl56PK-rR",
        "outputId": "959ad8c8-8efd-4983-febb-2f1f25f5a553"
      },
      "outputs": [
        {
          "output_type": "execute_result",
          "data": {
            "text/plain": [
              "id                     object\n",
              "vendor_id               int64\n",
              "pickup_datetime        object\n",
              "dropoff_datetime       object\n",
              "passenger_count         int64\n",
              "pickup_longitude      float64\n",
              "pickup_latitude       float64\n",
              "dropoff_longitude     float64\n",
              "dropoff_latitude      float64\n",
              "store_and_fwd_flag     object\n",
              "trip_duration           int64\n",
              "dtype: object"
            ]
          },
          "metadata": {},
          "execution_count": 81
        }
      ],
      "source": [
        "df.dtypes"
      ]
    },
    {
      "cell_type": "code",
      "execution_count": 82,
      "metadata": {
        "colab": {
          "base_uri": "https://localhost:8080/"
        },
        "id": "Yzfq4vCpKviV",
        "outputId": "3f935746-2942-459a-9909-8dbe3c29df00"
      },
      "outputs": [
        {
          "output_type": "stream",
          "name": "stdout",
          "text": [
            "<class 'pandas.core.frame.DataFrame'>\n",
            "RangeIndex: 729322 entries, 0 to 729321\n",
            "Data columns (total 11 columns):\n",
            " #   Column              Non-Null Count   Dtype  \n",
            "---  ------              --------------   -----  \n",
            " 0   id                  729322 non-null  object \n",
            " 1   vendor_id           729322 non-null  int64  \n",
            " 2   pickup_datetime     729322 non-null  object \n",
            " 3   dropoff_datetime    729322 non-null  object \n",
            " 4   passenger_count     729322 non-null  int64  \n",
            " 5   pickup_longitude    729322 non-null  float64\n",
            " 6   pickup_latitude     729322 non-null  float64\n",
            " 7   dropoff_longitude   729322 non-null  float64\n",
            " 8   dropoff_latitude    729322 non-null  float64\n",
            " 9   store_and_fwd_flag  729322 non-null  object \n",
            " 10  trip_duration       729322 non-null  int64  \n",
            "dtypes: float64(4), int64(3), object(4)\n",
            "memory usage: 61.2+ MB\n"
          ]
        }
      ],
      "source": [
        "df.info()"
      ]
    },
    {
      "cell_type": "code",
      "execution_count": 83,
      "metadata": {
        "colab": {
          "base_uri": "https://localhost:8080/"
        },
        "id": "tyExHuwAK0ni",
        "outputId": "a97daaad-ef6e-4f54-f73d-72e854cae2f3"
      },
      "outputs": [
        {
          "output_type": "stream",
          "name": "stdout",
          "text": [
            "Index(['vendor_id', 'passenger_count', 'pickup_longitude', 'pickup_latitude',\n",
            "       'dropoff_longitude', 'dropoff_latitude', 'trip_duration'],\n",
            "      dtype='object')\n",
            "/n\n",
            "the range of numerical cols: vendor_id [ 1 : 2 ]\n",
            "the range of numerical cols: passenger_count [ 0 : 9 ]\n",
            "the range of numerical cols: pickup_longitude [ -121.933342 : -65.89738464 ]\n",
            "the range of numerical cols: pickup_latitude [ 34.7122345 : 51.88108444 ]\n",
            "the range of numerical cols: dropoff_longitude [ -121.9333038 : -65.89738464 ]\n",
            "the range of numerical cols: dropoff_latitude [ 32.1811409 : 43.92102814 ]\n",
            "the range of numerical cols: trip_duration [ 1 : 1939736 ]\n"
          ]
        }
      ],
      "source": [
        "\n",
        "#Finding the min max values of cont variables:\n",
        "\n",
        "numerical_cols=df.select_dtypes(include=['int64',\"float\"]).columns\n",
        "print(numerical_cols)\n",
        "\n",
        "print(\"/n\")\n",
        "\n",
        "#numerical_cols=df.select_dtypes(include=['int64',\"float\"]).column\n",
        "#print(df[numerical_cols].max())\n",
        "#print(df[numerical_cols].min())\n",
        "for i in numerical_cols:\n",
        "  print(\"the range of numerical cols:\",i,\"[\",df[i].min(),\":\",df[i].max(),\"]\")"
      ]
    },
    {
      "cell_type": "code",
      "execution_count": 84,
      "metadata": {
        "colab": {
          "base_uri": "https://localhost:8080/"
        },
        "id": "QaAKqGmIlI_O",
        "outputId": "aaa0c68d-9c31-4ac7-8c53-053afa80a34d"
      },
      "outputs": [
        {
          "output_type": "execute_result",
          "data": {
            "text/plain": [
              "Index(['id', 'pickup_datetime', 'dropoff_datetime', 'store_and_fwd_flag'], dtype='object')"
            ]
          },
          "metadata": {},
          "execution_count": 84
        }
      ],
      "source": [
        "#categorical variables as follows\n",
        "categorical_cols=df.select_dtypes(include=['object']).columns\n",
        "categorical_cols"
      ]
    },
    {
      "cell_type": "code",
      "execution_count": 85,
      "metadata": {
        "colab": {
          "base_uri": "https://localhost:8080/"
        },
        "id": "LnRNWRqtPElE",
        "outputId": "ce6131e3-7ec6-49db-c8d2-d08504994766"
      },
      "outputs": [
        {
          "output_type": "stream",
          "name": "stdout",
          "text": [
            "Number of duplicate rows = 0\n"
          ]
        }
      ],
      "source": [
        "# Are there any duplicates ?\n",
        "dups = df.duplicated()\n",
        "print('Number of duplicate rows = %d' % (dups.sum()))\n",
        "#df[dups]\t\n"
      ]
    },
    {
      "cell_type": "code",
      "execution_count": 86,
      "metadata": {
        "colab": {
          "base_uri": "https://localhost:8080/"
        },
        "id": "GcnC7mbMPXQ7",
        "outputId": "c6038d54-c0dd-428c-f722-6083180a0e67"
      },
      "outputs": [
        {
          "output_type": "execute_result",
          "data": {
            "text/plain": [
              "id                    0\n",
              "vendor_id             0\n",
              "pickup_datetime       0\n",
              "dropoff_datetime      0\n",
              "passenger_count       0\n",
              "pickup_longitude      0\n",
              "pickup_latitude       0\n",
              "dropoff_longitude     0\n",
              "dropoff_latitude      0\n",
              "store_and_fwd_flag    0\n",
              "trip_duration         0\n",
              "dtype: int64"
            ]
          },
          "metadata": {},
          "execution_count": 86
        }
      ],
      "source": [
        "df.isnull().sum()"
      ]
    },
    {
      "cell_type": "code",
      "execution_count": 87,
      "metadata": {
        "colab": {
          "base_uri": "https://localhost:8080/",
          "height": 364
        },
        "id": "2hpqKA4_h2Rd",
        "outputId": "0b0d9577-f376-446c-ff8e-ff2d3c4373bf"
      },
      "outputs": [
        {
          "output_type": "execute_result",
          "data": {
            "text/plain": [
              "<matplotlib.axes._subplots.AxesSubplot at 0x7f9a55a2eb50>"
            ]
          },
          "metadata": {},
          "execution_count": 87
        },
        {
          "output_type": "display_data",
          "data": {
            "text/plain": [
              "<Figure size 432x288 with 2 Axes>"
            ],
            "image/png": "[encoded data removed]"
          },
          "metadata": {
            "needs_background": "light"
          }
        }
      ],
      "source": [
        "sns.heatmap(df.corr(),annot=True,cmap=\"plasma\",vmin=-1,vmax=1)"
      ]
    },
    {
      "cell_type": "code",
      "source": [
        "df.describe()"
      ],
      "metadata": {
        "colab": {
          "base_uri": "https://localhost:8080/",
          "height": 300
        },
        "id": "m29d393jMaez",
        "outputId": "77c1cd7f-9514-431b-86b8-5364f6fbb575"
      },
      "execution_count": 88,
      "outputs": [
        {
          "output_type": "execute_result",
          "data": {
            "text/plain": [
              "           vendor_id  passenger_count  pickup_longitude  pickup_latitude  \\\n",
              "count  729322.000000    729322.000000     729322.000000    729322.000000   \n",
              "mean        1.535403         1.662055        -73.973513        40.750919   \n",
              "std         0.498745         1.312446          0.069754         0.033594   \n",
              "min         1.000000         0.000000       -121.933342        34.712235   \n",
              "25%         1.000000         1.000000        -73.991859        40.737335   \n",
              "50%         2.000000         1.000000        -73.981758        40.754070   \n",
              "75%         2.000000         2.000000        -73.967361        40.768314   \n",
              "max         2.000000         9.000000        -65.897385        51.881084   \n",
              "\n",
              "       dropoff_longitude  dropoff_latitude  trip_duration  \n",
              "count      729322.000000     729322.000000   7.293220e+05  \n",
              "mean          -73.973422         40.751775   9.522291e+02  \n",
              "std             0.069588          0.036037   3.864626e+03  \n",
              "min          -121.933304         32.181141   1.000000e+00  \n",
              "25%           -73.991318         40.735931   3.970000e+02  \n",
              "50%           -73.979759         40.754509   6.630000e+02  \n",
              "75%           -73.963036         40.769741   1.075000e+03  \n",
              "max           -65.897385         43.921028   1.939736e+06  "
            ],
            "text/html": [
              "\n",
              "  <div id=\"df-b7d2624d-9724-4bcc-ba7f-b4c82db640ea\">\n",
              "    <div class=\"colab-df-container\">\n",
              "      <div>\n",
              "<style scoped>\n",
              "    .dataframe tbody tr th:only-of-type {\n",
              "        vertical-align: middle;\n",
              "    }\n",
              "\n",
              "    .dataframe tbody tr th {\n",
              "        vertical-align: top;\n",
              "    }\n",
              "\n",
              "    .dataframe thead th {\n",
              "        text-align: right;\n",
              "    }\n",
              "</style>\n",
              "<table border=\"1\" class=\"dataframe\">\n",
              "  <thead>\n",
              "    <tr style=\"text-align: right;\">\n",
              "      <th></th>\n",
              "      <th>vendor_id</th>\n",
              "      <th>passenger_count</th>\n",
              "      <th>pickup_longitude</th>\n",
              "      <th>pickup_latitude</th>\n",
              "      <th>dropoff_longitude</th>\n",
              "      <th>dropoff_latitude</th>\n",
              "      <th>trip_duration</th>\n",
              "    </tr>\n",
              "  </thead>\n",
              "  <tbody>\n",
              "    <tr>\n",
              "      <th>count</th>\n",
              "      <td>729322.000000</td>\n",
              "      <td>729322.000000</td>\n",
              "      <td>729322.000000</td>\n",
              "      <td>729322.000000</td>\n",
              "      <td>729322.000000</td>\n",
              "      <td>729322.000000</td>\n",
              "      <td>7.293220e+05</td>\n",
              "    </tr>\n",
              "    <tr>\n",
              "      <th>mean</th>\n",
              "      <td>1.535403</td>\n",
              "      <td>1.662055</td>\n",
              "      <td>-73.973513</td>\n",
              "      <td>40.750919</td>\n",
              "      <td>-73.973422</td>\n",
              "      <td>40.751775</td>\n",
              "      <td>9.522291e+02</td>\n",
              "    </tr>\n",
              "    <tr>\n",
              "      <th>std</th>\n",
              "      <td>0.498745</td>\n",
              "      <td>1.312446</td>\n",
              "      <td>0.069754</td>\n",
              "      <td>0.033594</td>\n",
              "      <td>0.069588</td>\n",
              "      <td>0.036037</td>\n",
              "      <td>3.864626e+03</td>\n",
              "    </tr>\n",
              "    <tr>\n",
              "      <th>min</th>\n",
              "      <td>1.000000</td>\n",
              "      <td>0.000000</td>\n",
              "      <td>-121.933342</td>\n",
              "      <td>34.712235</td>\n",
              "      <td>-121.933304</td>\n",
              "      <td>32.181141</td>\n",
              "      <td>1.000000e+00</td>\n",
              "    </tr>\n",
              "    <tr>\n",
              "      <th>25%</th>\n",
              "      <td>1.000000</td>\n",
              "      <td>1.000000</td>\n",
              "      <td>-73.991859</td>\n",
              "      <td>40.737335</td>\n",
              "      <td>-73.991318</td>\n",
              "      <td>40.735931</td>\n",
              "      <td>3.970000e+02</td>\n",
              "    </tr>\n",
              "    <tr>\n",
              "      <th>50%</th>\n",
              "      <td>2.000000</td>\n",
              "      <td>1.000000</td>\n",
              "      <td>-73.981758</td>\n",
              "      <td>40.754070</td>\n",
              "      <td>-73.979759</td>\n",
              "      <td>40.754509</td>\n",
              "      <td>6.630000e+02</td>\n",
              "    </tr>\n",
              "    <tr>\n",
              "      <th>75%</th>\n",
              "      <td>2.000000</td>\n",
              "      <td>2.000000</td>\n",
              "      <td>-73.967361</td>\n",
              "      <td>40.768314</td>\n",
              "      <td>-73.963036</td>\n",
              "      <td>40.769741</td>\n",
              "      <td>1.075000e+03</td>\n",
              "    </tr>\n",
              "    <tr>\n",
              "      <th>max</th>\n",
              "      <td>2.000000</td>\n",
              "      <td>9.000000</td>\n",
              "      <td>-65.897385</td>\n",
              "      <td>51.881084</td>\n",
              "      <td>-65.897385</td>\n",
              "      <td>43.921028</td>\n",
              "      <td>1.939736e+06</td>\n",
              "    </tr>\n",
              "  </tbody>\n",
              "</table>\n",
              "</div>\n",
              "      <button class=\"colab-df-convert\" onclick=\"convertToInteractive('df-b7d2624d-9724-4bcc-ba7f-b4c82db640ea')\"\n",
              "              title=\"Convert this dataframe to an interactive table.\"\n",
              "              style=\"display:none;\">\n",
              "        \n",
              "  <svg xmlns=\"http://www.w3.org/2000/svg\" height=\"24px\"viewBox=\"0 0 24 24\"\n",
              "       width=\"24px\">\n",
              "    <path d=\"M0 0h24v24H0V0z\" fill=\"none\"/>\n",
              "    <path d=\"M18.56 5.44l.94 2.06.94-2.06 2.06-.94-2.06-.94-.94-2.06-.94 2.06-2.06.94zm-11 1L8.5 8.5l.94-2.06 2.06-.94-2.06-.94L8.5 2.5l-.94 2.06-2.06.94zm10 10l.94 2.06.94-2.06 2.06-.94-2.06-.94-.94-2.06-.94 2.06-2.06.94z\"/><path d=\"M17.41 7.96l-1.37-1.37c-.4-.4-.92-.59-1.43-.59-.52 0-1.04.2-1.43.59L10.3 9.45l-7.72 7.72c-.78.78-.78 2.05 0 2.83L4 21.41c.39.39.9.59 1.41.59.51 0 1.02-.2 1.41-.59l7.78-7.78 2.81-2.81c.8-.78.8-2.07 0-2.86zM5.41 20L4 18.59l7.72-7.72 1.47 1.35L5.41 20z\"/>\n",
              "  </svg>\n",
              "      </button>\n",
              "      \n",
              "  <style>\n",
              "    .colab-df-container {\n",
              "      display:flex;\n",
              "      flex-wrap:wrap;\n",
              "      gap: 12px;\n",
              "    }\n",
              "\n",
              "    .colab-df-convert {\n",
              "      background-color: #E8F0FE;\n",
              "      border: none;\n",
              "      border-radius: 50%;\n",
              "      cursor: pointer;\n",
              "      display: none;\n",
              "      fill: #1967D2;\n",
              "      height: 32px;\n",
              "      padding: 0 0 0 0;\n",
              "      width: 32px;\n",
              "    }\n",
              "\n",
              "    .colab-df-convert:hover {\n",
              "      background-color: #E2EBFA;\n",
              "      box-shadow: 0px 1px 2px rgba(60, 64, 67, 0.3), 0px 1px 3px 1px rgba(60, 64, 67, 0.15);\n",
              "      fill: #174EA6;\n",
              "    }\n",
              "\n",
              "    [theme=dark] .colab-df-convert {\n",
              "      background-color: #3B4455;\n",
              "      fill: #D2E3FC;\n",
              "    }\n",
              "\n",
              "    [theme=dark] .colab-df-convert:hover {\n",
              "      background-color: #434B5C;\n",
              "      box-shadow: 0px 1px 3px 1px rgba(0, 0, 0, 0.15);\n",
              "      filter: drop-shadow(0px 1px 2px rgba(0, 0, 0, 0.3));\n",
              "      fill: #FFFFFF;\n",
              "    }\n",
              "  </style>\n",
              "\n",
              "      <script>\n",
              "        const buttonEl =\n",
              "          document.querySelector('#df-b7d2624d-9724-4bcc-ba7f-b4c82db640ea button.colab-df-convert');\n",
              "        buttonEl.style.display =\n",
              "          google.colab.kernel.accessAllowed ? 'block' : 'none';\n",
              "\n",
              "        async function convertToInteractive(key) {\n",
              "          const element = document.querySelector('#df-b7d2624d-9724-4bcc-ba7f-b4c82db640ea');\n",
              "          const dataTable =\n",
              "            await google.colab.kernel.invokeFunction('convertToInteractive',\n",
              "                                                     [key], {});\n",
              "          if (!dataTable) return;\n",
              "\n",
              "          const docLinkHtml = 'Like what you see? Visit the ' +\n",
              "            '<a target=\"_blank\" href=https://colab.research.google.com/notebooks/data_table.ipynb>data table notebook</a>'\n",
              "            + ' to learn more about interactive tables.';\n",
              "          element.innerHTML = '';\n",
              "          dataTable['output_type'] = 'display_data';\n",
              "          await google.colab.output.renderOutput(dataTable, element);\n",
              "          const docLink = document.createElement('div');\n",
              "          docLink.innerHTML = docLinkHtml;\n",
              "          element.appendChild(docLink);\n",
              "        }\n",
              "      </script>\n",
              "    </div>\n",
              "  </div>\n",
              "  "
            ]
          },
          "metadata": {},
          "execution_count": 88
        }
      ]
    },
    {
      "cell_type": "markdown",
      "source": [
        "Vendor id has a minimum value of 1 and a maximum value of 2 which makes sense as we saw there are two vendor ids 1 and 2.\n",
        "\n",
        "\n",
        "Passenger count has a minimum of 0 which means either it is an error entered or the drivers deliberately entered 0 to complete a target number of rides.\n",
        "\n",
        "\n",
        "The minimum trip duration is also quite low. We will come back to this later during Univariate Analysis"
      ],
      "metadata": {
        "id": "fP5WusrYNrc7"
      }
    },
    {
      "cell_type": "code",
      "source": [
        "df.nunique()"
      ],
      "metadata": {
        "colab": {
          "base_uri": "https://localhost:8080/"
        },
        "id": "l6cQ1hRWMvpD",
        "outputId": "6aa89066-1b7f-4739-8307-6c6f86543672"
      },
      "execution_count": 89,
      "outputs": [
        {
          "output_type": "execute_result",
          "data": {
            "text/plain": [
              "id                    729322\n",
              "vendor_id                  2\n",
              "pickup_datetime       223893\n",
              "dropoff_datetime      224158\n",
              "passenger_count            9\n",
              "pickup_longitude       19729\n",
              "pickup_latitude        39776\n",
              "dropoff_longitude      27892\n",
              "dropoff_latitude       53579\n",
              "store_and_fwd_flag         2\n",
              "trip_duration           6296\n",
              "dtype: int64"
            ]
          },
          "metadata": {},
          "execution_count": 89
        }
      ]
    },
    {
      "cell_type": "markdown",
      "source": [
        "We see that id has 729322 unique values which are equal to the number of rows \n",
        "in our dataset.\n",
        "\n",
        "There are 2 unique vendor ids.\n",
        "\n",
        "There are 9 unique passenger counts.\n",
        "\n",
        "There are 2 unique values for store_and_fwd_flag, that we also saw in the description of the variables, which are Y and N.\n",
        "\n"
      ],
      "metadata": {
        "id": "diiT902TNXOW"
      }
    },
    {
      "cell_type": "code",
      "execution_count": 92,
      "metadata": {
        "colab": {
          "base_uri": "https://localhost:8080/",
          "height": 295
        },
        "id": "_OBJTskAQ0Yr",
        "outputId": "20352cbd-f411-48e6-eb3d-a02e36ce2ad0"
      },
      "outputs": [
        {
          "output_type": "display_data",
          "data": {
            "text/plain": [
              "<Figure size 432x288 with 1 Axes>"
            ],
            "image/png": "[encoded data removed]"
          },
          "metadata": {
            "needs_background": "light"
          }
        }
      ],
      "source": [
        "#barplt on vendor id and total trips:\n",
        "\n",
        "vendors=df['vendor_id'].value_counts()\n",
        "sns.barplot(x=vendors.index,y=vendors.values)\n",
        "plt.xlabel('Vendor')\n",
        "plt.ylabel('Total Trips')\n",
        "plt.title(\"Vendors and total trips\")\n",
        "plt.show()"
      ]
    },
    {
      "cell_type": "code",
      "execution_count": 93,
      "metadata": {
        "colab": {
          "base_uri": "https://localhost:8080/",
          "height": 373
        },
        "id": "dO0bWKzORZ0u",
        "outputId": "692f91cc-cd9a-4bb4-919a-f20ea727530c"
      },
      "outputs": [
        {
          "output_type": "stream",
          "name": "stdout",
          "text": [
            "the Maximum passenger 9\n",
            "the Minimum passenger 0\n"
          ]
        },
        {
          "output_type": "display_data",
          "data": {
            "text/plain": [
              "<Figure size 720x360 with 1 Axes>"
            ],
            "image/png": "[encoded data removed]"
          },
          "metadata": {
            "needs_background": "light"
          }
        }
      ],
      "source": [
        "passenger_count=df[\"passenger_count\"]\n",
        "print(\"the Maximum passenger\",max(passenger_count))\n",
        "print(\"the Minimum passenger\",min(passenger_count))\n",
        "\n",
        "passenger_count=df['passenger_count'].value_counts()\n",
        "fig = plt.figure(figsize=(10,5))\n",
        "\n",
        "sns.barplot(x=passenger_count.index,y=passenger_count.values)\n",
        "plt.xlabel('Number of passengers on a trip', fontsize=14)\n",
        "plt.ylabel('Count', fontsize=14)\n",
        "plt.show()\n"
      ]
    },
    {
      "cell_type": "markdown",
      "source": [
        "Feature Creation\n",
        "\n",
        " using datetime function:"
      ],
      "metadata": {
        "id": "KDvpbgoMOCXO"
      }
    },
    {
      "cell_type": "code",
      "execution_count": 94,
      "metadata": {
        "id": "q2BOk8IASqZa"
      },
      "outputs": [],
      "source": [
        "# Lets move on to Pickup and Drop off columns\n",
        "\n",
        "# Converting to datetime\n",
        "\n",
        "df[\"pickup_datetime\"]=pd.to_datetime(df['pickup_datetime'])\n",
        "df[\"dropoff_datetime\"]=pd.to_datetime(df['dropoff_datetime'])\n"
      ]
    },
    {
      "cell_type": "code",
      "execution_count": 95,
      "metadata": {
        "id": "QXVFj3QOUWLc"
      },
      "outputs": [],
      "source": [
        "df['pickup_dayname']=df['pickup_datetime'].dt.day_name()\n",
        "df['pickup_day_no']=df['pickup_datetime'].dt.weekday\n",
        "df['pickup_hour']=df['pickup_datetime'].dt.hour\n",
        "df['pickup_month']=df['pickup_datetime'].dt.month\n",
        "df['pickup_day'] = df['pickup_datetime'].dt.day"
      ]
    },
    {
      "cell_type": "code",
      "execution_count": 96,
      "metadata": {
        "id": "3rOWst5_m8r7"
      },
      "outputs": [],
      "source": [
        "df['dropoff_dayname']=df['dropoff_datetime'].dt.day_name()\n",
        "df['dropoff_day_no']=df['dropoff_datetime'].dt.weekday\n",
        "df['dropoff_hour']=df['dropoff_datetime'].dt.hour\n",
        "df['dropoff_month']=df['dropoff_datetime'].dt.month\n",
        "df['dropoff_day'] = df['dropoff_datetime'].dt.day"
      ]
    },
    {
      "cell_type": "markdown",
      "source": [
        "Importing the library which lets us calculate distance from geographical coordinates.\n",
        "\n",
        "Defining a function to take coordinates as inputs and return us distance.\n"
      ],
      "metadata": {
        "id": "7gtPLUkFOZzi"
      }
    },
    {
      "cell_type": "code",
      "execution_count": 97,
      "metadata": {
        "id": "8fE51vrzCusF"
      },
      "outputs": [],
      "source": [
        "from geopy.distance import great_circle\n",
        "\n",
        "def cal_distance(pickup_lat,pickup_long,dropoff_lat,dropoff_long):\n",
        " \n",
        " start_coordinates=(pickup_lat,pickup_long)\n",
        " stop_coordinates=(dropoff_lat,dropoff_long)\n",
        " \n",
        " return great_circle(start_coordinates,stop_coordinates).km"
      ]
    },
    {
      "cell_type": "code",
      "execution_count": 98,
      "metadata": {
        "id": "EMcS3v7uC0NF"
      },
      "outputs": [],
      "source": [
        "df[\"distance\"] = df.apply(lambda x: cal_distance(x[\"pickup_latitude\"],x[\"pickup_longitude\"],x[\"dropoff_latitude\"],x[\"dropoff_longitude\"] ), axis=1)"
      ]
    },
    {
      "cell_type": "code",
      "execution_count": 99,
      "metadata": {
        "id": "d3IkrQY4AJok"
      },
      "outputs": [],
      "source": [
        "def time_day(x):\n",
        "  if x in range(6,12):\n",
        "    return \"Morning\"\n",
        "  elif x in range(12,16):\n",
        "    return \"Afternoon\"\n",
        "  elif x in range(16,22):\n",
        "    return \"Evening\"\n",
        "  else:\n",
        "    return \"Late night\"\n",
        "\n",
        "df[\"pickup_timeofday\"]=df[\"pickup_hour\"].apply(time_day)\n",
        "\n",
        "df[\"dropoff_timeofday\"]=df[\"dropoff_hour\"].apply(time_day)"
      ]
    },
    {
      "cell_type": "code",
      "execution_count": 100,
      "metadata": {
        "colab": {
          "base_uri": "https://localhost:8080/",
          "height": 386
        },
        "id": "sKrhiv2KVNMs",
        "outputId": "9b3b738e-7dc3-4f93-e3db-4862de92ad3c"
      },
      "outputs": [
        {
          "output_type": "execute_result",
          "data": {
            "text/plain": [
              "          id  vendor_id     pickup_datetime    dropoff_datetime  \\\n",
              "0  id1080784          2 2016-02-29 16:40:00 2016-02-29 16:47:00   \n",
              "1  id0889885          1 2016-03-11 23:35:00 2016-03-11 23:53:00   \n",
              "2  id0857912          2 2016-02-21 17:59:00 2016-02-21 18:26:00   \n",
              "3  id3744273          2 2016-01-05 09:44:00 2016-01-05 10:03:00   \n",
              "4  id0232939          1 2016-02-17 06:42:00 2016-02-17 06:56:00   \n",
              "\n",
              "   passenger_count  pickup_longitude  pickup_latitude  dropoff_longitude  \\\n",
              "0                1        -73.953918        40.778873         -73.963875   \n",
              "1                2        -73.988312        40.731743         -73.994751   \n",
              "2                2        -73.997314        40.721458         -73.948029   \n",
              "3                6        -73.961670        40.759720         -73.956779   \n",
              "4                1        -74.017120        40.708469         -73.988182   \n",
              "\n",
              "   dropoff_latitude store_and_fwd_flag  ...  pickup_month pickup_day  \\\n",
              "0         40.771164                  N  ...             2         29   \n",
              "1         40.694931                  N  ...             3         11   \n",
              "2         40.774918                  N  ...             2         21   \n",
              "3         40.780628                  N  ...             1          5   \n",
              "4         40.740631                  N  ...             2         17   \n",
              "\n",
              "   dropoff_dayname  dropoff_day_no  dropoff_hour  dropoff_month dropoff_day  \\\n",
              "0           Monday               0            16              2          29   \n",
              "1           Friday               4            23              3          11   \n",
              "2           Sunday               6            18              2          21   \n",
              "3          Tuesday               1            10              1           5   \n",
              "4        Wednesday               2             6              2          17   \n",
              "\n",
              "   distance  pickup_timeofday  dropoff_timeofday  \n",
              "0  1.199074           Evening            Evening  \n",
              "1  4.129117        Late night         Late night  \n",
              "2  7.250763           Evening            Evening  \n",
              "3  2.361100           Morning            Morning  \n",
              "4  4.328540           Morning            Morning  \n",
              "\n",
              "[5 rows x 24 columns]"
            ],
            "text/html": [
              "\n",
              "  <div id=\"df-c703a1c3-2aca-42f8-be8d-04173785dcdc\">\n",
              "    <div class=\"colab-df-container\">\n",
              "      <div>\n",
              "<style scoped>\n",
              "    .dataframe tbody tr th:only-of-type {\n",
              "        vertical-align: middle;\n",
              "    }\n",
              "\n",
              "    .dataframe tbody tr th {\n",
              "        vertical-align: top;\n",
              "    }\n",
              "\n",
              "    .dataframe thead th {\n",
              "        text-align: right;\n",
              "    }\n",
              "</style>\n",
              "<table border=\"1\" class=\"dataframe\">\n",
              "  <thead>\n",
              "    <tr style=\"text-align: right;\">\n",
              "      <th></th>\n",
              "      <th>id</th>\n",
              "      <th>vendor_id</th>\n",
              "      <th>pickup_datetime</th>\n",
              "      <th>dropoff_datetime</th>\n",
              "      <th>passenger_count</th>\n",
              "      <th>pickup_longitude</th>\n",
              "      <th>pickup_latitude</th>\n",
              "      <th>dropoff_longitude</th>\n",
              "      <th>dropoff_latitude</th>\n",
              "      <th>store_and_fwd_flag</th>\n",
              "      <th>...</th>\n",
              "      <th>pickup_month</th>\n",
              "      <th>pickup_day</th>\n",
              "      <th>dropoff_dayname</th>\n",
              "      <th>dropoff_day_no</th>\n",
              "      <th>dropoff_hour</th>\n",
              "      <th>dropoff_month</th>\n",
              "      <th>dropoff_day</th>\n",
              "      <th>distance</th>\n",
              "      <th>pickup_timeofday</th>\n",
              "      <th>dropoff_timeofday</th>\n",
              "    </tr>\n",
              "  </thead>\n",
              "  <tbody>\n",
              "    <tr>\n",
              "      <th>0</th>\n",
              "      <td>id1080784</td>\n",
              "      <td>2</td>\n",
              "      <td>2016-02-29 16:40:00</td>\n",
              "      <td>2016-02-29 16:47:00</td>\n",
              "      <td>1</td>\n",
              "      <td>-73.953918</td>\n",
              "      <td>40.778873</td>\n",
              "      <td>-73.963875</td>\n",
              "      <td>40.771164</td>\n",
              "      <td>N</td>\n",
              "      <td>...</td>\n",
              "      <td>2</td>\n",
              "      <td>29</td>\n",
              "      <td>Monday</td>\n",
              "      <td>0</td>\n",
              "      <td>16</td>\n",
              "      <td>2</td>\n",
              "      <td>29</td>\n",
              "      <td>1.199074</td>\n",
              "      <td>Evening</td>\n",
              "      <td>Evening</td>\n",
              "    </tr>\n",
              "    <tr>\n",
              "      <th>1</th>\n",
              "      <td>id0889885</td>\n",
              "      <td>1</td>\n",
              "      <td>2016-03-11 23:35:00</td>\n",
              "      <td>2016-03-11 23:53:00</td>\n",
              "      <td>2</td>\n",
              "      <td>-73.988312</td>\n",
              "      <td>40.731743</td>\n",
              "      <td>-73.994751</td>\n",
              "      <td>40.694931</td>\n",
              "      <td>N</td>\n",
              "      <td>...</td>\n",
              "      <td>3</td>\n",
              "      <td>11</td>\n",
              "      <td>Friday</td>\n",
              "      <td>4</td>\n",
              "      <td>23</td>\n",
              "      <td>3</td>\n",
              "      <td>11</td>\n",
              "      <td>4.129117</td>\n",
              "      <td>Late night</td>\n",
              "      <td>Late night</td>\n",
              "    </tr>\n",
              "    <tr>\n",
              "      <th>2</th>\n",
              "      <td>id0857912</td>\n",
              "      <td>2</td>\n",
              "      <td>2016-02-21 17:59:00</td>\n",
              "      <td>2016-02-21 18:26:00</td>\n",
              "      <td>2</td>\n",
              "      <td>-73.997314</td>\n",
              "      <td>40.721458</td>\n",
              "      <td>-73.948029</td>\n",
              "      <td>40.774918</td>\n",
              "      <td>N</td>\n",
              "      <td>...</td>\n",
              "      <td>2</td>\n",
              "      <td>21</td>\n",
              "      <td>Sunday</td>\n",
              "      <td>6</td>\n",
              "      <td>18</td>\n",
              "      <td>2</td>\n",
              "      <td>21</td>\n",
              "      <td>7.250763</td>\n",
              "      <td>Evening</td>\n",
              "      <td>Evening</td>\n",
              "    </tr>\n",
              "    <tr>\n",
              "      <th>3</th>\n",
              "      <td>id3744273</td>\n",
              "      <td>2</td>\n",
              "      <td>2016-01-05 09:44:00</td>\n",
              "      <td>2016-01-05 10:03:00</td>\n",
              "      <td>6</td>\n",
              "      <td>-73.961670</td>\n",
              "      <td>40.759720</td>\n",
              "      <td>-73.956779</td>\n",
              "      <td>40.780628</td>\n",
              "      <td>N</td>\n",
              "      <td>...</td>\n",
              "      <td>1</td>\n",
              "      <td>5</td>\n",
              "      <td>Tuesday</td>\n",
              "      <td>1</td>\n",
              "      <td>10</td>\n",
              "      <td>1</td>\n",
              "      <td>5</td>\n",
              "      <td>2.361100</td>\n",
              "      <td>Morning</td>\n",
              "      <td>Morning</td>\n",
              "    </tr>\n",
              "    <tr>\n",
              "      <th>4</th>\n",
              "      <td>id0232939</td>\n",
              "      <td>1</td>\n",
              "      <td>2016-02-17 06:42:00</td>\n",
              "      <td>2016-02-17 06:56:00</td>\n",
              "      <td>1</td>\n",
              "      <td>-74.017120</td>\n",
              "      <td>40.708469</td>\n",
              "      <td>-73.988182</td>\n",
              "      <td>40.740631</td>\n",
              "      <td>N</td>\n",
              "      <td>...</td>\n",
              "      <td>2</td>\n",
              "      <td>17</td>\n",
              "      <td>Wednesday</td>\n",
              "      <td>2</td>\n",
              "      <td>6</td>\n",
              "      <td>2</td>\n",
              "      <td>17</td>\n",
              "      <td>4.328540</td>\n",
              "      <td>Morning</td>\n",
              "      <td>Morning</td>\n",
              "    </tr>\n",
              "  </tbody>\n",
              "</table>\n",
              "<p>5 rows × 24 columns</p>\n",
              "</div>\n",
              "      <button class=\"colab-df-convert\" onclick=\"convertToInteractive('df-c703a1c3-2aca-42f8-be8d-04173785dcdc')\"\n",
              "              title=\"Convert this dataframe to an interactive table.\"\n",
              "              style=\"display:none;\">\n",
              "        \n",
              "  <svg xmlns=\"http://www.w3.org/2000/svg\" height=\"24px\"viewBox=\"0 0 24 24\"\n",
              "       width=\"24px\">\n",
              "    <path d=\"M0 0h24v24H0V0z\" fill=\"none\"/>\n",
              "    <path d=\"M18.56 5.44l.94 2.06.94-2.06 2.06-.94-2.06-.94-.94-2.06-.94 2.06-2.06.94zm-11 1L8.5 8.5l.94-2.06 2.06-.94-2.06-.94L8.5 2.5l-.94 2.06-2.06.94zm10 10l.94 2.06.94-2.06 2.06-.94-2.06-.94-.94-2.06-.94 2.06-2.06.94z\"/><path d=\"M17.41 7.96l-1.37-1.37c-.4-.4-.92-.59-1.43-.59-.52 0-1.04.2-1.43.59L10.3 9.45l-7.72 7.72c-.78.78-.78 2.05 0 2.83L4 21.41c.39.39.9.59 1.41.59.51 0 1.02-.2 1.41-.59l7.78-7.78 2.81-2.81c.8-.78.8-2.07 0-2.86zM5.41 20L4 18.59l7.72-7.72 1.47 1.35L5.41 20z\"/>\n",
              "  </svg>\n",
              "      </button>\n",
              "      \n",
              "  <style>\n",
              "    .colab-df-container {\n",
              "      display:flex;\n",
              "      flex-wrap:wrap;\n",
              "      gap: 12px;\n",
              "    }\n",
              "\n",
              "    .colab-df-convert {\n",
              "      background-color: #E8F0FE;\n",
              "      border: none;\n",
              "      border-radius: 50%;\n",
              "      cursor: pointer;\n",
              "      display: none;\n",
              "      fill: #1967D2;\n",
              "      height: 32px;\n",
              "      padding: 0 0 0 0;\n",
              "      width: 32px;\n",
              "    }\n",
              "\n",
              "    .colab-df-convert:hover {\n",
              "      background-color: #E2EBFA;\n",
              "      box-shadow: 0px 1px 2px rgba(60, 64, 67, 0.3), 0px 1px 3px 1px rgba(60, 64, 67, 0.15);\n",
              "      fill: #174EA6;\n",
              "    }\n",
              "\n",
              "    [theme=dark] .colab-df-convert {\n",
              "      background-color: #3B4455;\n",
              "      fill: #D2E3FC;\n",
              "    }\n",
              "\n",
              "    [theme=dark] .colab-df-convert:hover {\n",
              "      background-color: #434B5C;\n",
              "      box-shadow: 0px 1px 3px 1px rgba(0, 0, 0, 0.15);\n",
              "      filter: drop-shadow(0px 1px 2px rgba(0, 0, 0, 0.3));\n",
              "      fill: #FFFFFF;\n",
              "    }\n",
              "  </style>\n",
              "\n",
              "      <script>\n",
              "        const buttonEl =\n",
              "          document.querySelector('#df-c703a1c3-2aca-42f8-be8d-04173785dcdc button.colab-df-convert');\n",
              "        buttonEl.style.display =\n",
              "          google.colab.kernel.accessAllowed ? 'block' : 'none';\n",
              "\n",
              "        async function convertToInteractive(key) {\n",
              "          const element = document.querySelector('#df-c703a1c3-2aca-42f8-be8d-04173785dcdc');\n",
              "          const dataTable =\n",
              "            await google.colab.kernel.invokeFunction('convertToInteractive',\n",
              "                                                     [key], {});\n",
              "          if (!dataTable) return;\n",
              "\n",
              "          const docLinkHtml = 'Like what you see? Visit the ' +\n",
              "            '<a target=\"_blank\" href=https://colab.research.google.com/notebooks/data_table.ipynb>data table notebook</a>'\n",
              "            + ' to learn more about interactive tables.';\n",
              "          element.innerHTML = '';\n",
              "          dataTable['output_type'] = 'display_data';\n",
              "          await google.colab.output.renderOutput(dataTable, element);\n",
              "          const docLink = document.createElement('div');\n",
              "          docLink.innerHTML = docLinkHtml;\n",
              "          element.appendChild(docLink);\n",
              "        }\n",
              "      </script>\n",
              "    </div>\n",
              "  </div>\n",
              "  "
            ]
          },
          "metadata": {},
          "execution_count": 100
        }
      ],
      "source": [
        "df.head()"
      ]
    },
    {
      "cell_type": "code",
      "execution_count": 101,
      "metadata": {
        "colab": {
          "base_uri": "https://localhost:8080/",
          "height": 729
        },
        "id": "AO_pLnUDv4HX",
        "outputId": "bdcb1998-52f4-4324-c69c-ef9845c397c2"
      },
      "outputs": [
        {
          "output_type": "display_data",
          "data": {
            "text/plain": [
              "<Figure size 720x720 with 2 Axes>"
            ],
            "image/png": "[encoded data removed]"
          },
          "metadata": {
            "needs_background": "light"
          }
        }
      ],
      "source": [
        "\n",
        "# define the figure with 2 subplots\n",
        "figure,ax = plt.subplots(nrows=2,ncols=1,figsize = (10,10)) \n",
        "# histogram of the number of trip distance\n",
        "data1=df[df[\"vendor_id\"]==1]\n",
        "data2=df[df[\"vendor_id\"]==2]\n",
        "#sns.countplot(data=data, x=\"distance\",ax=ax[0])\n",
        "data1.distance.hist(bins=24,ax=ax[0])\n",
        "ax[0].set_title('Histogram of Trip Distance with vendor 1')\n",
        "data2.distance.hist(bins=24,ax=ax[1])\n",
        "#sns.histplot(data=data2, x=\"distance\",ax=ax[1])\n",
        "ax[1].set_title('Histogram of Trip Distance with vendor 2')\n",
        "plt.tight_layout()"
      ]
    },
    {
      "cell_type": "code",
      "execution_count": 103,
      "metadata": {
        "colab": {
          "base_uri": "https://localhost:8080/",
          "height": 297
        },
        "id": "r06JnwhRjXgL",
        "outputId": "66a2df9c-7d1a-42e5-dc2c-16c5b65fb39b"
      },
      "outputs": [
        {
          "output_type": "execute_result",
          "data": {
            "text/plain": [
              "<matplotlib.axes._subplots.AxesSubplot at 0x7f9a4aa35950>"
            ]
          },
          "metadata": {},
          "execution_count": 103
        },
        {
          "output_type": "display_data",
          "data": {
            "text/plain": [
              "<Figure size 432x288 with 1 Axes>"
            ],
            "image/png": "[encoded data removed]"
          },
          "metadata": {
            "needs_background": "light"
          }
        }
      ],
      "source": [
        "#Univariate Analysis\n",
        "sns.histplot(df['trip_duration'],kde=False,bins=20)"
      ]
    },
    {
      "cell_type": "markdown",
      "source": [
        "The histogram is really skewed as we can see."
      ],
      "metadata": {
        "id": "SxLknt9wRrIC"
      }
    },
    {
      "cell_type": "code",
      "execution_count": 33,
      "metadata": {
        "colab": {
          "base_uri": "https://localhost:8080/",
          "height": 352
        },
        "id": "yAvLLHHLkJ6p",
        "outputId": "56b24343-496e-4836-b57b-aaec939f6ff6"
      },
      "outputs": [
        {
          "output_type": "stream",
          "name": "stderr",
          "text": [
            "/usr/local/lib/python3.7/dist-packages/seaborn/_decorators.py:43: FutureWarning: Pass the following variable as a keyword arg: x. From version 0.12, the only valid positional argument will be `data`, and passing other arguments without an explicit keyword will result in an error or misinterpretation.\n",
            "  FutureWarning\n"
          ]
        },
        {
          "output_type": "execute_result",
          "data": {
            "text/plain": [
              "<matplotlib.axes._subplots.AxesSubplot at 0x7f9a416ee550>"
            ]
          },
          "metadata": {},
          "execution_count": 33
        },
        {
          "output_type": "display_data",
          "data": {
            "text/plain": [
              "<Figure size 432x288 with 1 Axes>"
            ],
            "image/png": "[encoded data removed]"
          },
          "metadata": {
            "needs_background": "light"
          }
        }
      ],
      "source": [
        "sns.boxplot(df[\"trip_duration\"])"
      ]
    },
    {
      "cell_type": "markdown",
      "source": [
        "We can clearly see an outlier.\n",
        "\n",
        "We can see that there is an entry which is significantly different from others.\n",
        "\n",
        "As there is a single row only, let us drop this row"
      ],
      "metadata": {
        "id": "Hs5rPRE9SB2u"
      }
    },
    {
      "cell_type": "markdown",
      "source": [],
      "metadata": {
        "id": "p8BRNXS-Rsj-"
      }
    },
    {
      "cell_type": "code",
      "execution_count": 34,
      "metadata": {
        "colab": {
          "base_uri": "https://localhost:8080/"
        },
        "id": "ddOgUuwQj55K",
        "outputId": "d28e26d4-8fa9-4012-c73c-11f19d7a6052"
      },
      "outputs": [
        {
          "output_type": "execute_result",
          "data": {
            "text/plain": [
              "21813     1939736\n",
              "259437      86391\n",
              "119185      86387\n",
              "177225      86378\n",
              "496391      86377\n",
              "           ...   \n",
              "672240          1\n",
              "102646          1\n",
              "533760          1\n",
              "512833          1\n",
              "622664          1\n",
              "Name: trip_duration, Length: 729322, dtype: int64"
            ]
          },
          "metadata": {},
          "execution_count": 34
        }
      ],
      "source": [
        "df.trip_duration.sort_values(ascending=False)"
      ]
    },
    {
      "cell_type": "code",
      "execution_count": 35,
      "metadata": {
        "id": "rCuNvblCj8yM"
      },
      "outputs": [],
      "source": [
        "df.drop(df[df[\"trip_duration\"]==1939736].index,inplace=True)"
      ]
    },
    {
      "cell_type": "code",
      "source": [
        "df[\"passenger_count\"].value_counts(ascending=False)"
      ],
      "metadata": {
        "colab": {
          "base_uri": "https://localhost:8080/"
        },
        "id": "50D51wQhS7ft",
        "outputId": "f80e3cec-d23c-4086-c5fb-d3c884ee6620"
      },
      "execution_count": 107,
      "outputs": [
        {
          "output_type": "execute_result",
          "data": {
            "text/plain": [
              "1    517415\n",
              "2    105097\n",
              "5     38926\n",
              "3     29692\n",
              "6     24107\n",
              "4     14050\n",
              "Name: passenger_count, dtype: int64"
            ]
          },
          "metadata": {},
          "execution_count": 107
        }
      ]
    },
    {
      "cell_type": "markdown",
      "source": [
        "There are some trips with even 0 passenger count.\n",
        "\n",
        "There is only 1 trip each for 7 and 9 passengers."
      ],
      "metadata": {
        "id": "UeQ4Kn_pTSi3"
      }
    },
    {
      "cell_type": "code",
      "execution_count": 104,
      "metadata": {
        "colab": {
          "base_uri": "https://localhost:8080/",
          "height": 297
        },
        "id": "9T-TiK45kum_",
        "outputId": "ecd693c6-5049-4408-83d7-78789c643e4b"
      },
      "outputs": [
        {
          "output_type": "execute_result",
          "data": {
            "text/plain": [
              "<matplotlib.axes._subplots.AxesSubplot at 0x7f9a34255c90>"
            ]
          },
          "metadata": {},
          "execution_count": 104
        },
        {
          "output_type": "display_data",
          "data": {
            "text/plain": [
              "<Figure size 432x288 with 1 Axes>"
            ],
            "image/png": "[encoded data removed]"
          },
          "metadata": {
            "needs_background": "light"
          }
        }
      ],
      "source": [
        "df=df[df['passenger_count']!=0]\n",
        "df=df[df['passenger_count']<=6]\n",
        "sns.countplot(x='passenger_count',data=df)"
      ]
    },
    {
      "cell_type": "markdown",
      "source": [
        "We see the highest amount of trips are with 1 passenger.\n",
        "\n",
        "Let us remove the rows which have 0 or 7 or 9 passenger count."
      ],
      "metadata": {
        "id": "h9EPFMtTTaDZ"
      }
    },
    {
      "cell_type": "code",
      "execution_count": 37,
      "metadata": {
        "colab": {
          "base_uri": "https://localhost:8080/"
        },
        "id": "-zArxQCGlT9B",
        "outputId": "07b219e1-40a5-4ed4-83e1-fa202d0912a7"
      },
      "outputs": [
        {
          "output_type": "execute_result",
          "data": {
            "text/plain": [
              "N    0.994463\n",
              "Y    0.005537\n",
              "Name: store_and_fwd_flag, dtype: float64"
            ]
          },
          "metadata": {},
          "execution_count": 37
        }
      ],
      "source": [
        "df['store_and_fwd_flag'].value_counts(normalize=True)"
      ]
    },
    {
      "cell_type": "markdown",
      "source": [
        "We see there are less than 1% of trips that were stored before forwarding."
      ],
      "metadata": {
        "id": "Z3KoizMdUQK3"
      }
    },
    {
      "cell_type": "code",
      "source": [
        "df[\"distance\"].value_counts(ascending=False)"
      ],
      "metadata": {
        "colab": {
          "base_uri": "https://localhost:8080/"
        },
        "id": "Wf6rAAjrTvtL",
        "outputId": "48e226f9-f548-4e06-bc01-f85ca4a9411c"
      },
      "execution_count": 109,
      "outputs": [
        {
          "output_type": "execute_result",
          "data": {
            "text/plain": [
              "0.000000    2893\n",
              "0.000425      16\n",
              "0.000848      15\n",
              "0.000424      14\n",
              "0.001272      12\n",
              "            ... \n",
              "4.112011       1\n",
              "1.107790       1\n",
              "2.688127       1\n",
              "2.457477       1\n",
              "5.945845       1\n",
              "Name: distance, Length: 726229, dtype: int64"
            ]
          },
          "metadata": {},
          "execution_count": 109
        }
      ]
    },
    {
      "cell_type": "markdown",
      "source": [
        "We see there are 2893 trips with 0 km distance.\n",
        "\n",
        "The reasons for 0 km distance can be:\n",
        "\n",
        "The dropoff location couldn’t be tracked.\n",
        "The driver deliberately took this ride to complete a target ride number.\n",
        "The passengers canceled the trip.\n",
        "We will analyze these trips further in bivariate analysis."
      ],
      "metadata": {
        "id": "7qJGES8EUHXN"
      }
    },
    {
      "cell_type": "code",
      "execution_count": 38,
      "metadata": {
        "colab": {
          "base_uri": "https://localhost:8080/"
        },
        "id": "ZTkThbhxltxr",
        "outputId": "d255f60a-5a8f-4e6f-8b04-5d36024d6783"
      },
      "outputs": [
        {
          "output_type": "execute_result",
          "data": {
            "text/plain": [
              "Index(['id', 'vendor_id', 'pickup_datetime', 'dropoff_datetime',\n",
              "       'passenger_count', 'pickup_longitude', 'pickup_latitude',\n",
              "       'dropoff_longitude', 'dropoff_latitude', 'store_and_fwd_flag',\n",
              "       'trip_duration', 'pickup_dayname', 'pickup_day_no', 'pickup_hour',\n",
              "       'pickup_month', 'pickup_day', 'dropoff_dayname', 'dropoff_day_no',\n",
              "       'dropoff_hour', 'dropoff_month', 'dropoff_day', 'distance',\n",
              "       'pickup_timeofday', 'dropoff_timeofday'],\n",
              "      dtype='object')"
            ]
          },
          "metadata": {},
          "execution_count": 38
        }
      ],
      "source": [
        "df.columns\n"
      ]
    },
    {
      "cell_type": "code",
      "execution_count": 39,
      "metadata": {
        "colab": {
          "base_uri": "https://localhost:8080/",
          "height": 351
        },
        "id": "h_TUtWwumGVh",
        "outputId": "67fe102b-6cd3-406a-c8ef-9793d9a0fdef"
      },
      "outputs": [
        {
          "output_type": "display_data",
          "data": {
            "text/plain": [
              "<Figure size 1440x360 with 2 Axes>"
            ],
            "image/png": "[encoded data removed]"
          },
          "metadata": {
            "needs_background": "light"
          }
        }
      ],
      "source": [
        "\n",
        "figure,(ax1,ax2)=plt.subplots(ncols=2,figsize=(20,5))\n",
        "\n",
        "ax1.set_title('Pickup Dayname')\n",
        "ax=sns.countplot(x=\"pickup_dayname\",data=df,ax=ax1)\n",
        "\n",
        "ax2.set_title('Dropoff Dayname')\n",
        "ax=sns.countplot(x=\"dropoff_dayname\",data=df,ax=ax2)"
      ]
    },
    {
      "cell_type": "markdown",
      "source": [
        "We see Fridays are the busiest days followed by Saturdays. That is probably because it’s weekend.\n",
        "\n"
      ],
      "metadata": {
        "id": "EjJTkL6TUrgK"
      }
    },
    {
      "cell_type": "code",
      "source": [
        "\n",
        "figure,(ax1,ax2)=plt.subplots(ncols=2,figsize=(20,5))\n",
        "ax1.set_title('pickup_timeofday')\n",
        "ax=sns.countplot(x=\"pickup_timeofday\",data=df,ax=ax1)\n",
        "\n",
        "ax2.set_title('dropoff_timeofday')\n",
        "ax=sns.countplot(x=\"dropoff_timeofday\",data=df,ax=ax2)"
      ],
      "metadata": {
        "colab": {
          "base_uri": "https://localhost:8080/",
          "height": 351
        },
        "id": "y79_lKJgVajl",
        "outputId": "6bd8723a-e3f9-4042-c69f-68cec9bc560c"
      },
      "execution_count": 110,
      "outputs": [
        {
          "output_type": "display_data",
          "data": {
            "text/plain": [
              "<Figure size 1440x360 with 2 Axes>"
            ],
            "image/png": "[encoded data removed]"
          },
          "metadata": {
            "needs_background": "light"
          }
        }
      ]
    },
    {
      "cell_type": "markdown",
      "source": [
        "As we saw above, evenings are the busiest."
      ],
      "metadata": {
        "id": "vAYphDs9V33O"
      }
    },
    {
      "cell_type": "code",
      "execution_count": 40,
      "metadata": {
        "colab": {
          "base_uri": "https://localhost:8080/",
          "height": 351
        },
        "id": "LpMVSNs774s1",
        "outputId": "aedc1a9a-7216-4a10-8952-403d52a27d7f"
      },
      "outputs": [
        {
          "output_type": "display_data",
          "data": {
            "text/plain": [
              "<Figure size 1440x360 with 2 Axes>"
            ],
            "image/png": "[encoded data removed]"
          },
          "metadata": {
            "needs_background": "light"
          }
        }
      ],
      "source": [
        "figure,(ax9,ax10)=plt.subplots(ncols=2,figsize=(20,5))\n",
        "ax=sns.countplot(x=\"pickup_hour\",data=df,ax=ax9)\n",
        "ax10.set_title('Dropoff Days')\n",
        "ax=sns.countplot(x=\"dropoff_hour\",data=df,ax=ax10)\n"
      ]
    },
    {
      "cell_type": "markdown",
      "source": [
        "We see the busiest hours are 6:00 pm to 7:00 pm and that makes sense as this is the time when people return from their offices.\n"
      ],
      "metadata": {
        "id": "MQY2cLIOU_gO"
      }
    },
    {
      "cell_type": "code",
      "execution_count": 41,
      "metadata": {
        "colab": {
          "base_uri": "https://localhost:8080/",
          "height": 351
        },
        "id": "GgqdXv5r8MwW",
        "outputId": "19a6e291-8ff3-4ad6-aa0c-8121704e3163"
      },
      "outputs": [
        {
          "output_type": "display_data",
          "data": {
            "text/plain": [
              "<Figure size 1440x360 with 2 Axes>"
            ],
            "image/png": "[encoded data removed]"
          },
          "metadata": {
            "needs_background": "light"
          }
        }
      ],
      "source": [
        "figure,(ax11,ax12)=plt.subplots(ncols=2,figsize=(20,5))\n",
        "ax11.set_title('Pickup Month')\n",
        "ax=sns.countplot(x=\"pickup_month\",data=df,ax=ax11)\n",
        "ax12.set_title('Dropoff Month')\n",
        "ax=sns.countplot(x=\"dropoff_month\",data=df,ax=ax12)"
      ]
    },
    {
      "cell_type": "markdown",
      "source": [
        "There is not much difference in the number of trips across months."
      ],
      "metadata": {
        "id": "WAwQGl1iWBYA"
      }
    },
    {
      "cell_type": "code",
      "execution_count": 42,
      "metadata": {
        "colab": {
          "base_uri": "https://localhost:8080/",
          "height": 297
        },
        "id": "s_YpaRzd9coK",
        "outputId": "97a368db-d3f9-4c5d-fa25-f766037d0643"
      },
      "outputs": [
        {
          "output_type": "execute_result",
          "data": {
            "text/plain": [
              "<matplotlib.axes._subplots.AxesSubplot at 0x7f9a41e567d0>"
            ]
          },
          "metadata": {},
          "execution_count": 42
        },
        {
          "output_type": "display_data",
          "data": {
            "text/plain": [
              "<Figure size 432x288 with 1 Axes>"
            ],
            "image/png": "[encoded data removed]"
          },
          "metadata": {
            "needs_background": "light"
          }
        }
      ],
      "source": [
        "#Bivariate Analysis\n",
        "sns.barplot(y='trip_duration',x='vendor_id',data=df,estimator=np.mean)"
      ]
    },
    {
      "cell_type": "markdown",
      "source": [
        "endor id 2 takes longer trips as compared to vendor 1."
      ],
      "metadata": {
        "id": "UhKYogBxWYom"
      }
    },
    {
      "cell_type": "code",
      "execution_count": 43,
      "metadata": {
        "colab": {
          "base_uri": "https://localhost:8080/",
          "height": 386
        },
        "id": "LuyKP6219lcP",
        "outputId": "51b7ee82-bf66-4c23-979b-5fe6a473ea39"
      },
      "outputs": [
        {
          "output_type": "execute_result",
          "data": {
            "text/plain": [
              "<seaborn.axisgrid.FacetGrid at 0x7f9a41e4f050>"
            ]
          },
          "metadata": {},
          "execution_count": 43
        },
        {
          "output_type": "display_data",
          "data": {
            "text/plain": [
              "<Figure size 360x360 with 1 Axes>"
            ],
            "image/png": "[encoded data removed]"
          },
          "metadata": {
            "needs_background": "light"
          }
        }
      ],
      "source": [
        "\n",
        "sns.catplot(data=df, x=\"store_and_fwd_flag\", y=\"trip_duration\",kind=\"strip\")"
      ]
    },
    {
      "cell_type": "markdown",
      "source": [
        "Trip duration is generally longer for trips whose flag was not stored."
      ],
      "metadata": {
        "id": "kK_ZZu93Wt2u"
      }
    },
    {
      "cell_type": "code",
      "execution_count": 44,
      "metadata": {
        "colab": {
          "base_uri": "https://localhost:8080/",
          "height": 386
        },
        "id": "2IZvBwRC91PH",
        "outputId": "03353d1c-17d5-4523-c15b-9568f033740e"
      },
      "outputs": [
        {
          "output_type": "execute_result",
          "data": {
            "text/plain": [
              "<seaborn.axisgrid.FacetGrid at 0x7f9a55bbd1d0>"
            ]
          },
          "metadata": {},
          "execution_count": 44
        },
        {
          "output_type": "display_data",
          "data": {
            "text/plain": [
              "<Figure size 360x360 with 1 Axes>"
            ],
            "image/png": "[encoded data removed]"
          },
          "metadata": {
            "needs_background": "light"
          }
        }
      ],
      "source": [
        "sns.catplot(y=\"trip_duration\",x=\"passenger_count\",data=df,kind=\"strip\")"
      ]
    },
    {
      "cell_type": "markdown",
      "source": [
        "Trip duration is generally longer for trips whose flag was not stored."
      ],
      "metadata": {
        "id": "fcgpdcUfW8aY"
      }
    },
    {
      "cell_type": "code",
      "execution_count": 45,
      "metadata": {
        "colab": {
          "base_uri": "https://localhost:8080/",
          "height": 297
        },
        "id": "tX7lNKTx_E1Q",
        "outputId": "d7ff31cd-ed2f-4740-820b-5008a1cf1e25"
      },
      "outputs": [
        {
          "output_type": "execute_result",
          "data": {
            "text/plain": [
              "<matplotlib.axes._subplots.AxesSubplot at 0x7f9a40836750>"
            ]
          },
          "metadata": {},
          "execution_count": 45
        },
        {
          "output_type": "display_data",
          "data": {
            "text/plain": [
              "<Figure size 432x288 with 1 Axes>"
            ],
            "image/png": "[encoded data removed]"
          },
          "metadata": {
            "needs_background": "light"
          }
        }
      ],
      "source": [
        "sns.lineplot(x=\"pickup_hour\",y=\"trip_duration\",data=df)"
      ]
    },
    {
      "cell_type": "markdown",
      "source": [
        "We see the trip duration is the maximum around 3 pm which may be because of traffic on the roads.\n",
        "Trip duration is the lowest around 6 am as streets may not be busy."
      ],
      "metadata": {
        "id": "34UcqOQlXH-W"
      }
    },
    {
      "cell_type": "code",
      "execution_count": 46,
      "metadata": {
        "colab": {
          "base_uri": "https://localhost:8080/",
          "height": 297
        },
        "id": "du_1qAhn_OJ4",
        "outputId": "737bdd64-f0a2-445b-e0e2-8903bb2a4c11"
      },
      "outputs": [
        {
          "output_type": "execute_result",
          "data": {
            "text/plain": [
              "<matplotlib.axes._subplots.AxesSubplot at 0x7f9a3f42a690>"
            ]
          },
          "metadata": {},
          "execution_count": 46
        },
        {
          "output_type": "display_data",
          "data": {
            "text/plain": [
              "<Figure size 432x288 with 1 Axes>"
            ],
            "image/png": "[encoded data removed]"
          },
          "metadata": {
            "needs_background": "light"
          }
        }
      ],
      "source": [
        "sns.lineplot(x=\"pickup_timeofday\",y=\"trip_duration\",data=df)"
      ]
    },
    {
      "cell_type": "markdown",
      "source": [
        "As we saw above, trip duration is the maximum in the afternoon and lowest between late night and morning"
      ],
      "metadata": {
        "id": "8M0Rm1qDXNY9"
      }
    },
    {
      "cell_type": "code",
      "execution_count": 47,
      "metadata": {
        "colab": {
          "base_uri": "https://localhost:8080/",
          "height": 297
        },
        "id": "YwYnqWbGBY-1",
        "outputId": "4f2ac06f-8b43-4e4f-e108-148ef803c2c2"
      },
      "outputs": [
        {
          "output_type": "execute_result",
          "data": {
            "text/plain": [
              "<matplotlib.axes._subplots.AxesSubplot at 0x7f9a416e8290>"
            ]
          },
          "metadata": {},
          "execution_count": 47
        },
        {
          "output_type": "display_data",
          "data": {
            "text/plain": [
              "<Figure size 432x288 with 1 Axes>"
            ],
            "image/png": "[encoded data removed]"
          },
          "metadata": {
            "needs_background": "light"
          }
        }
      ],
      "source": [
        "\n",
        "sns.lineplot(x=\"dropoff_timeofday\",y=\"trip_duration\",data=df)\n"
      ]
    },
    {
      "cell_type": "code",
      "execution_count": 48,
      "metadata": {
        "colab": {
          "base_uri": "https://localhost:8080/",
          "height": 297
        },
        "id": "APfKZlUo_yqd",
        "outputId": "2119cd4c-afd9-42ee-b7a1-c9793610c0f2"
      },
      "outputs": [
        {
          "output_type": "execute_result",
          "data": {
            "text/plain": [
              "<matplotlib.axes._subplots.AxesSubplot at 0x7f9a3f6348d0>"
            ]
          },
          "metadata": {},
          "execution_count": 48
        },
        {
          "output_type": "display_data",
          "data": {
            "text/plain": [
              "<Figure size 432x288 with 1 Axes>"
            ],
            "image/png": "[encoded data removed]"
          },
          "metadata": {
            "needs_background": "light"
          }
        }
      ],
      "source": [
        "sns.lineplot(x=\"pickup_day_no\",y=\"trip_duration\",data=df)"
      ]
    },
    {
      "cell_type": "code",
      "source": [
        "#Trip duration is the longest on Thursdays closely followed by Fridays."
      ],
      "metadata": {
        "id": "yYcIwD3gXVUk"
      },
      "execution_count": 114,
      "outputs": []
    },
    {
      "cell_type": "code",
      "execution_count": 49,
      "metadata": {
        "colab": {
          "base_uri": "https://localhost:8080/",
          "height": 297
        },
        "id": "uEO7xu-2B40s",
        "outputId": "872f6077-27eb-4554-fa73-405429289ffc"
      },
      "outputs": [
        {
          "output_type": "execute_result",
          "data": {
            "text/plain": [
              "<matplotlib.axes._subplots.AxesSubplot at 0x7f9a62006d90>"
            ]
          },
          "metadata": {},
          "execution_count": 49
        },
        {
          "output_type": "display_data",
          "data": {
            "text/plain": [
              "<Figure size 432x288 with 1 Axes>"
            ],
            "image/png": "[encoded data removed]"
          },
          "metadata": {
            "needs_background": "light"
          }
        }
      ],
      "source": [
        "sns.lineplot(x=\"pickup_month\",y=\"trip_duration\",data=df)"
      ]
    },
    {
      "cell_type": "code",
      "source": [
        "#From February, we can see trip duration rising every month."
      ],
      "metadata": {
        "id": "AMJmHvH1XgRo"
      },
      "execution_count": 115,
      "outputs": []
    },
    {
      "cell_type": "code",
      "execution_count": 50,
      "metadata": {
        "colab": {
          "base_uri": "https://localhost:8080/",
          "height": 297
        },
        "id": "BXXFs_ojCCqh",
        "outputId": "a37d8656-510c-406a-81cc-d91a3b8cd646"
      },
      "outputs": [
        {
          "output_type": "execute_result",
          "data": {
            "text/plain": [
              "<matplotlib.axes._subplots.AxesSubplot at 0x7f9a45214d50>"
            ]
          },
          "metadata": {},
          "execution_count": 50
        },
        {
          "output_type": "display_data",
          "data": {
            "text/plain": [
              "<Figure size 432x288 with 1 Axes>"
            ],
            "image/png": "[encoded data removed]"
          },
          "metadata": {
            "needs_background": "light"
          }
        }
      ],
      "source": [
        "sns.barplot(y=\"distance\",x=\"vendor_id\",data=df,estimator=np.mean)"
      ]
    },
    {
      "cell_type": "markdown",
      "source": [
        "The distribution for both vendors is very similar."
      ],
      "metadata": {
        "id": "x7-1j2utYGkl"
      }
    },
    {
      "cell_type": "code",
      "execution_count": 51,
      "metadata": {
        "colab": {
          "base_uri": "https://localhost:8080/",
          "height": 386
        },
        "id": "hdRTC3RiCKnk",
        "outputId": "0dafde51-cf44-41fb-dd82-f9af0b310de1"
      },
      "outputs": [
        {
          "output_type": "execute_result",
          "data": {
            "text/plain": [
              "<seaborn.axisgrid.FacetGrid at 0x7f9a6207c950>"
            ]
          },
          "metadata": {},
          "execution_count": 51
        },
        {
          "output_type": "display_data",
          "data": {
            "text/plain": [
              "<Figure size 360x360 with 1 Axes>"
            ],
            "image/png": "[encoded data removed]"
          },
          "metadata": {
            "needs_background": "light"
          }
        }
      ],
      "source": [
        "sns.catplot(y=\"distance\",x=\"store_and_fwd_flag\",data=df,kind=\"strip\")"
      ]
    },
    {
      "cell_type": "markdown",
      "source": [
        "We see for longer distances the trip is not stored."
      ],
      "metadata": {
        "id": "m4xuk9AvYRlW"
      }
    },
    {
      "cell_type": "code",
      "execution_count": 52,
      "metadata": {
        "colab": {
          "base_uri": "https://localhost:8080/",
          "height": 386
        },
        "id": "S0PA1R3IDl2L",
        "outputId": "272f99af-18d2-4c50-dab5-f1e87fbc43c2"
      },
      "outputs": [
        {
          "output_type": "execute_result",
          "data": {
            "text/plain": [
              "<seaborn.axisgrid.FacetGrid at 0x7f9a40eeb190>"
            ]
          },
          "metadata": {},
          "execution_count": 52
        },
        {
          "output_type": "display_data",
          "data": {
            "text/plain": [
              "<Figure size 360x360 with 1 Axes>"
            ],
            "image/png": "[encoded data removed]"
          },
          "metadata": {
            "needs_background": "light"
          }
        }
      ],
      "source": [
        "sns.catplot(y=\"distance\",x=\"passenger_count\",data=df,kind=\"strip\")\n"
      ]
    },
    {
      "cell_type": "markdown",
      "source": [
        "We see some of the longer distances are covered by either 1 or 2 or 4 passenger rides."
      ],
      "metadata": {
        "id": "2kUnWm77YWbm"
      }
    },
    {
      "cell_type": "code",
      "execution_count": 53,
      "metadata": {
        "colab": {
          "base_uri": "https://localhost:8080/",
          "height": 297
        },
        "id": "jmvANtaMECFZ",
        "outputId": "6b193934-e074-437f-e53a-247d302fabfb"
      },
      "outputs": [
        {
          "output_type": "execute_result",
          "data": {
            "text/plain": [
              "<matplotlib.axes._subplots.AxesSubplot at 0x7f9a467efd90>"
            ]
          },
          "metadata": {},
          "execution_count": 53
        },
        {
          "output_type": "display_data",
          "data": {
            "text/plain": [
              "<Figure size 432x288 with 1 Axes>"
            ],
            "image/png": "[encoded data removed]"
          },
          "metadata": {
            "needs_background": "light"
          }
        }
      ],
      "source": [
        "sns.lineplot(x=\"pickup_day_no\",y=\"distance\",data=df)"
      ]
    },
    {
      "cell_type": "markdown",
      "source": [
        "Distances are longer on Sundays probably because it’s weekend.\n",
        "Monday trip distances are also quite high.\n",
        "This probably means that there can be outstation trips on these days and/or the streets are busier."
      ],
      "metadata": {
        "id": "tYBoDngqZLGB"
      }
    },
    {
      "cell_type": "code",
      "execution_count": 54,
      "metadata": {
        "colab": {
          "base_uri": "https://localhost:8080/",
          "height": 297
        },
        "id": "fitHVUZtEIGA",
        "outputId": "dfc3f0fc-23fc-465c-f7fe-fa8e5db89581"
      },
      "outputs": [
        {
          "output_type": "execute_result",
          "data": {
            "text/plain": [
              "<matplotlib.axes._subplots.AxesSubplot at 0x7f9a46dd9390>"
            ]
          },
          "metadata": {},
          "execution_count": 54
        },
        {
          "output_type": "display_data",
          "data": {
            "text/plain": [
              "<Figure size 432x288 with 1 Axes>"
            ],
            "image/png": "[encoded data removed]"
          },
          "metadata": {
            "needs_background": "light"
          }
        }
      ],
      "source": [
        "sns.lineplot(x=\"pickup_hour\",y=\"distance\",data=df)"
      ]
    },
    {
      "cell_type": "markdown",
      "source": [
        "Distances are the longest around 5 am.|"
      ],
      "metadata": {
        "id": "AEzcJtfDZRQ2"
      }
    },
    {
      "cell_type": "code",
      "execution_count": 55,
      "metadata": {
        "colab": {
          "base_uri": "https://localhost:8080/",
          "height": 297
        },
        "id": "WveTI9FYEQFB",
        "outputId": "0a9ebb98-5e09-4365-8d20-e310b335dad8"
      },
      "outputs": [
        {
          "output_type": "execute_result",
          "data": {
            "text/plain": [
              "<matplotlib.axes._subplots.AxesSubplot at 0x7f9a3f615b10>"
            ]
          },
          "metadata": {},
          "execution_count": 55
        },
        {
          "output_type": "display_data",
          "data": {
            "text/plain": [
              "<Figure size 432x288 with 1 Axes>"
            ],
            "image/png": "[encoded data removed]"
          },
          "metadata": {
            "needs_background": "light"
          }
        }
      ],
      "source": [
        "sns.lineplot(x=\"pickup_timeofday\",y=\"distance\",data=df)"
      ]
    },
    {
      "cell_type": "markdown",
      "source": [
        "distances being the longest during late night or it maybe called as early morning too.\n",
        "This can probably point to outstation trips where people start early for the day.\n",
        "\n",
        " "
      ],
      "metadata": {
        "id": "Jak3-nDkZUn9"
      }
    },
    {
      "cell_type": "code",
      "execution_count": 56,
      "metadata": {
        "colab": {
          "base_uri": "https://localhost:8080/",
          "height": 297
        },
        "id": "3wrz8bzJEXOs",
        "outputId": "783b7e19-1e16-420e-97dc-6822aa4d99f7"
      },
      "outputs": [
        {
          "output_type": "execute_result",
          "data": {
            "text/plain": [
              "<matplotlib.axes._subplots.AxesSubplot at 0x7f9a43832e90>"
            ]
          },
          "metadata": {},
          "execution_count": 56
        },
        {
          "output_type": "display_data",
          "data": {
            "text/plain": [
              "<Figure size 432x288 with 1 Axes>"
            ],
            "image/png": "[encoded data removed]"
          },
          "metadata": {
            "needs_background": "light"
          }
        }
      ],
      "source": [
        "sns.lineplot(x='pickup_month',y='distance',data=df)"
      ]
    },
    {
      "cell_type": "markdown",
      "source": [
        "As we also saw during trip duration per month, similarly trip distance is the lowest in February and the maximum in June."
      ],
      "metadata": {
        "id": "vynbjwJ_Zc0_"
      }
    },
    {
      "cell_type": "code",
      "execution_count": 57,
      "metadata": {
        "colab": {
          "base_uri": "https://localhost:8080/",
          "height": 297
        },
        "id": "BsEOBf4iEeEu",
        "outputId": "99f3c368-2247-495c-f410-442b74c7bc6c"
      },
      "outputs": [
        {
          "output_type": "execute_result",
          "data": {
            "text/plain": [
              "<matplotlib.axes._subplots.AxesSubplot at 0x7f9a3f764410>"
            ]
          },
          "metadata": {},
          "execution_count": 57
        },
        {
          "output_type": "display_data",
          "data": {
            "text/plain": [
              "<Figure size 432x288 with 1 Axes>"
            ],
            "image/png": "[encoded data removed]"
          },
          "metadata": {
            "needs_background": "light"
          }
        }
      ],
      "source": [
        "sns.barplot(y='passenger_count',x='vendor_id',data=df)"
      ]
    },
    {
      "cell_type": "markdown",
      "source": [
        "This shows that vendor 2 generally carries 2 passengers while vendor 1 carries 1 passenger rides."
      ],
      "metadata": {
        "id": "a64tmnBCZeyP"
      }
    },
    {
      "cell_type": "code",
      "execution_count": 58,
      "metadata": {
        "colab": {
          "base_uri": "https://localhost:8080/",
          "height": 387
        },
        "id": "jsQ6cqArEjw7",
        "outputId": "b61ae275-c79e-430f-fed0-66f20d01d909"
      },
      "outputs": [
        {
          "output_type": "execute_result",
          "data": {
            "text/plain": [
              "<seaborn.axisgrid.FacetGrid at 0x7f9a40ea09d0>"
            ]
          },
          "metadata": {},
          "execution_count": 58
        },
        {
          "output_type": "display_data",
          "data": {
            "text/plain": [
              "<Figure size 360x360 with 1 Axes>"
            ],
            "image/png": "[encoded data removed]"
          },
          "metadata": {
            "needs_background": "light"
          }
        }
      ],
      "source": [
        "sns.relplot(y=\"distance\",x='trip_duration',data=df)"
      ]
    },
    {
      "cell_type": "markdown",
      "source": [],
      "metadata": {
        "id": "tQePNOlcZ7r9"
      }
    },
    {
      "cell_type": "markdown",
      "source": [
        "We can see there are trips which trip duration as short as 0 seconds and yet covering a large distance. And, trips with 0 km distance and long trip durations.\n",
        "\n",
        "Let us see few rows whose distances are 0."
      ],
      "metadata": {
        "id": "TGe3LrvBZ7zF"
      }
    },
    {
      "cell_type": "code",
      "source": [
        "df[df[\"distance\"]==0].head()"
      ],
      "metadata": {
        "colab": {
          "base_uri": "https://localhost:8080/",
          "height": 386
        },
        "id": "U1HAJgELZ-Mw",
        "outputId": "025e74b0-70ee-46e5-8c74-d2e0fa51c31c"
      },
      "execution_count": 116,
      "outputs": [
        {
          "output_type": "execute_result",
          "data": {
            "text/plain": [
              "             id  vendor_id     pickup_datetime    dropoff_datetime  \\\n",
              "263   id3155891          2 2016-06-28 11:21:00 2016-06-28 11:25:00   \n",
              "327   id0786923          2 2016-03-26 13:34:00 2016-03-26 13:37:00   \n",
              "795   id2323213          2 2016-06-13 16:49:00 2016-06-13 17:04:00   \n",
              "1176  id3235868          1 2016-02-29 21:39:00 2016-02-29 21:44:00   \n",
              "1257  id1865738          2 2016-03-13 11:38:00 2016-03-13 12:00:00   \n",
              "\n",
              "      passenger_count  pickup_longitude  pickup_latitude  dropoff_longitude  \\\n",
              "263                 2        -73.996422        40.298828         -73.996422   \n",
              "327                 1        -73.996323        40.753460         -73.996323   \n",
              "795                 5        -73.967171        40.763500         -73.967171   \n",
              "1176                1        -73.995232        40.744038         -73.995232   \n",
              "1257                2        -73.912781        40.804428         -73.912781   \n",
              "\n",
              "      dropoff_latitude store_and_fwd_flag  ...  pickup_month pickup_day  \\\n",
              "263          40.298828                  N  ...             6         28   \n",
              "327          40.753460                  N  ...             3         26   \n",
              "795          40.763500                  N  ...             6         13   \n",
              "1176         40.744038                  N  ...             2         29   \n",
              "1257         40.804428                  N  ...             3         13   \n",
              "\n",
              "      dropoff_dayname  dropoff_day_no  dropoff_hour  dropoff_month  \\\n",
              "263           Tuesday               1            11              6   \n",
              "327          Saturday               5            13              3   \n",
              "795            Monday               0            17              6   \n",
              "1176           Monday               0            21              2   \n",
              "1257           Sunday               6            12              3   \n",
              "\n",
              "     dropoff_day  distance  pickup_timeofday  dropoff_timeofday  \n",
              "263           28       0.0           Morning            Morning  \n",
              "327           26       0.0         Afternoon          Afternoon  \n",
              "795           13       0.0           Evening            Evening  \n",
              "1176          29       0.0           Evening            Evening  \n",
              "1257          13       0.0           Morning          Afternoon  \n",
              "\n",
              "[5 rows x 24 columns]"
            ],
            "text/html": [
              "\n",
              "  <div id=\"df-7cb6fd04-395a-4f8c-bdda-cb857745a855\">\n",
              "    <div class=\"colab-df-container\">\n",
              "      <div>\n",
              "<style scoped>\n",
              "    .dataframe tbody tr th:only-of-type {\n",
              "        vertical-align: middle;\n",
              "    }\n",
              "\n",
              "    .dataframe tbody tr th {\n",
              "        vertical-align: top;\n",
              "    }\n",
              "\n",
              "    .dataframe thead th {\n",
              "        text-align: right;\n",
              "    }\n",
              "</style>\n",
              "<table border=\"1\" class=\"dataframe\">\n",
              "  <thead>\n",
              "    <tr style=\"text-align: right;\">\n",
              "      <th></th>\n",
              "      <th>id</th>\n",
              "      <th>vendor_id</th>\n",
              "      <th>pickup_datetime</th>\n",
              "      <th>dropoff_datetime</th>\n",
              "      <th>passenger_count</th>\n",
              "      <th>pickup_longitude</th>\n",
              "      <th>pickup_latitude</th>\n",
              "      <th>dropoff_longitude</th>\n",
              "      <th>dropoff_latitude</th>\n",
              "      <th>store_and_fwd_flag</th>\n",
              "      <th>...</th>\n",
              "      <th>pickup_month</th>\n",
              "      <th>pickup_day</th>\n",
              "      <th>dropoff_dayname</th>\n",
              "      <th>dropoff_day_no</th>\n",
              "      <th>dropoff_hour</th>\n",
              "      <th>dropoff_month</th>\n",
              "      <th>dropoff_day</th>\n",
              "      <th>distance</th>\n",
              "      <th>pickup_timeofday</th>\n",
              "      <th>dropoff_timeofday</th>\n",
              "    </tr>\n",
              "  </thead>\n",
              "  <tbody>\n",
              "    <tr>\n",
              "      <th>263</th>\n",
              "      <td>id3155891</td>\n",
              "      <td>2</td>\n",
              "      <td>2016-06-28 11:21:00</td>\n",
              "      <td>2016-06-28 11:25:00</td>\n",
              "      <td>2</td>\n",
              "      <td>-73.996422</td>\n",
              "      <td>40.298828</td>\n",
              "      <td>-73.996422</td>\n",
              "      <td>40.298828</td>\n",
              "      <td>N</td>\n",
              "      <td>...</td>\n",
              "      <td>6</td>\n",
              "      <td>28</td>\n",
              "      <td>Tuesday</td>\n",
              "      <td>1</td>\n",
              "      <td>11</td>\n",
              "      <td>6</td>\n",
              "      <td>28</td>\n",
              "      <td>0.0</td>\n",
              "      <td>Morning</td>\n",
              "      <td>Morning</td>\n",
              "    </tr>\n",
              "    <tr>\n",
              "      <th>327</th>\n",
              "      <td>id0786923</td>\n",
              "      <td>2</td>\n",
              "      <td>2016-03-26 13:34:00</td>\n",
              "      <td>2016-03-26 13:37:00</td>\n",
              "      <td>1</td>\n",
              "      <td>-73.996323</td>\n",
              "      <td>40.753460</td>\n",
              "      <td>-73.996323</td>\n",
              "      <td>40.753460</td>\n",
              "      <td>N</td>\n",
              "      <td>...</td>\n",
              "      <td>3</td>\n",
              "      <td>26</td>\n",
              "      <td>Saturday</td>\n",
              "      <td>5</td>\n",
              "      <td>13</td>\n",
              "      <td>3</td>\n",
              "      <td>26</td>\n",
              "      <td>0.0</td>\n",
              "      <td>Afternoon</td>\n",
              "      <td>Afternoon</td>\n",
              "    </tr>\n",
              "    <tr>\n",
              "      <th>795</th>\n",
              "      <td>id2323213</td>\n",
              "      <td>2</td>\n",
              "      <td>2016-06-13 16:49:00</td>\n",
              "      <td>2016-06-13 17:04:00</td>\n",
              "      <td>5</td>\n",
              "      <td>-73.967171</td>\n",
              "      <td>40.763500</td>\n",
              "      <td>-73.967171</td>\n",
              "      <td>40.763500</td>\n",
              "      <td>N</td>\n",
              "      <td>...</td>\n",
              "      <td>6</td>\n",
              "      <td>13</td>\n",
              "      <td>Monday</td>\n",
              "      <td>0</td>\n",
              "      <td>17</td>\n",
              "      <td>6</td>\n",
              "      <td>13</td>\n",
              "      <td>0.0</td>\n",
              "      <td>Evening</td>\n",
              "      <td>Evening</td>\n",
              "    </tr>\n",
              "    <tr>\n",
              "      <th>1176</th>\n",
              "      <td>id3235868</td>\n",
              "      <td>1</td>\n",
              "      <td>2016-02-29 21:39:00</td>\n",
              "      <td>2016-02-29 21:44:00</td>\n",
              "      <td>1</td>\n",
              "      <td>-73.995232</td>\n",
              "      <td>40.744038</td>\n",
              "      <td>-73.995232</td>\n",
              "      <td>40.744038</td>\n",
              "      <td>N</td>\n",
              "      <td>...</td>\n",
              "      <td>2</td>\n",
              "      <td>29</td>\n",
              "      <td>Monday</td>\n",
              "      <td>0</td>\n",
              "      <td>21</td>\n",
              "      <td>2</td>\n",
              "      <td>29</td>\n",
              "      <td>0.0</td>\n",
              "      <td>Evening</td>\n",
              "      <td>Evening</td>\n",
              "    </tr>\n",
              "    <tr>\n",
              "      <th>1257</th>\n",
              "      <td>id1865738</td>\n",
              "      <td>2</td>\n",
              "      <td>2016-03-13 11:38:00</td>\n",
              "      <td>2016-03-13 12:00:00</td>\n",
              "      <td>2</td>\n",
              "      <td>-73.912781</td>\n",
              "      <td>40.804428</td>\n",
              "      <td>-73.912781</td>\n",
              "      <td>40.804428</td>\n",
              "      <td>N</td>\n",
              "      <td>...</td>\n",
              "      <td>3</td>\n",
              "      <td>13</td>\n",
              "      <td>Sunday</td>\n",
              "      <td>6</td>\n",
              "      <td>12</td>\n",
              "      <td>3</td>\n",
              "      <td>13</td>\n",
              "      <td>0.0</td>\n",
              "      <td>Morning</td>\n",
              "      <td>Afternoon</td>\n",
              "    </tr>\n",
              "  </tbody>\n",
              "</table>\n",
              "<p>5 rows × 24 columns</p>\n",
              "</div>\n",
              "      <button class=\"colab-df-convert\" onclick=\"convertToInteractive('df-7cb6fd04-395a-4f8c-bdda-cb857745a855')\"\n",
              "              title=\"Convert this dataframe to an interactive table.\"\n",
              "              style=\"display:none;\">\n",
              "        \n",
              "  <svg xmlns=\"http://www.w3.org/2000/svg\" height=\"24px\"viewBox=\"0 0 24 24\"\n",
              "       width=\"24px\">\n",
              "    <path d=\"M0 0h24v24H0V0z\" fill=\"none\"/>\n",
              "    <path d=\"M18.56 5.44l.94 2.06.94-2.06 2.06-.94-2.06-.94-.94-2.06-.94 2.06-2.06.94zm-11 1L8.5 8.5l.94-2.06 2.06-.94-2.06-.94L8.5 2.5l-.94 2.06-2.06.94zm10 10l.94 2.06.94-2.06 2.06-.94-2.06-.94-.94-2.06-.94 2.06-2.06.94z\"/><path d=\"M17.41 7.96l-1.37-1.37c-.4-.4-.92-.59-1.43-.59-.52 0-1.04.2-1.43.59L10.3 9.45l-7.72 7.72c-.78.78-.78 2.05 0 2.83L4 21.41c.39.39.9.59 1.41.59.51 0 1.02-.2 1.41-.59l7.78-7.78 2.81-2.81c.8-.78.8-2.07 0-2.86zM5.41 20L4 18.59l7.72-7.72 1.47 1.35L5.41 20z\"/>\n",
              "  </svg>\n",
              "      </button>\n",
              "      \n",
              "  <style>\n",
              "    .colab-df-container {\n",
              "      display:flex;\n",
              "      flex-wrap:wrap;\n",
              "      gap: 12px;\n",
              "    }\n",
              "\n",
              "    .colab-df-convert {\n",
              "      background-color: #E8F0FE;\n",
              "      border: none;\n",
              "      border-radius: 50%;\n",
              "      cursor: pointer;\n",
              "      display: none;\n",
              "      fill: #1967D2;\n",
              "      height: 32px;\n",
              "      padding: 0 0 0 0;\n",
              "      width: 32px;\n",
              "    }\n",
              "\n",
              "    .colab-df-convert:hover {\n",
              "      background-color: #E2EBFA;\n",
              "      box-shadow: 0px 1px 2px rgba(60, 64, 67, 0.3), 0px 1px 3px 1px rgba(60, 64, 67, 0.15);\n",
              "      fill: #174EA6;\n",
              "    }\n",
              "\n",
              "    [theme=dark] .colab-df-convert {\n",
              "      background-color: #3B4455;\n",
              "      fill: #D2E3FC;\n",
              "    }\n",
              "\n",
              "    [theme=dark] .colab-df-convert:hover {\n",
              "      background-color: #434B5C;\n",
              "      box-shadow: 0px 1px 3px 1px rgba(0, 0, 0, 0.15);\n",
              "      filter: drop-shadow(0px 1px 2px rgba(0, 0, 0, 0.3));\n",
              "      fill: #FFFFFF;\n",
              "    }\n",
              "  </style>\n",
              "\n",
              "      <script>\n",
              "        const buttonEl =\n",
              "          document.querySelector('#df-7cb6fd04-395a-4f8c-bdda-cb857745a855 button.colab-df-convert');\n",
              "        buttonEl.style.display =\n",
              "          google.colab.kernel.accessAllowed ? 'block' : 'none';\n",
              "\n",
              "        async function convertToInteractive(key) {\n",
              "          const element = document.querySelector('#df-7cb6fd04-395a-4f8c-bdda-cb857745a855');\n",
              "          const dataTable =\n",
              "            await google.colab.kernel.invokeFunction('convertToInteractive',\n",
              "                                                     [key], {});\n",
              "          if (!dataTable) return;\n",
              "\n",
              "          const docLinkHtml = 'Like what you see? Visit the ' +\n",
              "            '<a target=\"_blank\" href=https://colab.research.google.com/notebooks/data_table.ipynb>data table notebook</a>'\n",
              "            + ' to learn more about interactive tables.';\n",
              "          element.innerHTML = '';\n",
              "          dataTable['output_type'] = 'display_data';\n",
              "          await google.colab.output.renderOutput(dataTable, element);\n",
              "          const docLink = document.createElement('div');\n",
              "          docLink.innerHTML = docLinkHtml;\n",
              "          element.appendChild(docLink);\n",
              "        }\n",
              "      </script>\n",
              "    </div>\n",
              "  </div>\n",
              "  "
            ]
          },
          "metadata": {},
          "execution_count": 116
        }
      ]
    },
    {
      "cell_type": "markdown",
      "source": [
        "We can see even though distance is recorded as 0 but trip duration is definitely more.\n",
        "\n",
        "One reason can be that the dropoff coordinates weren’t recorded.\n",
        "Another reason one can think is that for short trip durations, maybe the passenger changed their mind and cancelled the ride after some time."
      ],
      "metadata": {
        "id": "8OsgQl0zaE7n"
      }
    },
    {
      "cell_type": "code",
      "execution_count": null,
      "metadata": {
        "colab": {
          "base_uri": "https://localhost:8080/",
          "height": 424
        },
        "id": "En2SxLRxLaHv",
        "outputId": "ea09b7cd-399f-4d38-de39-a10636e49f8e"
      },
      "outputs": [
        {
          "data": {
            "text/html": [
              "\n",
              "  <div id=\"df-7ac9856d-2879-4e29-bebc-baff8506a8f5\">\n",
              "    <div class=\"colab-df-container\">\n",
              "      <div>\n",
              "<style scoped>\n",
              "    .dataframe tbody tr th:only-of-type {\n",
              "        vertical-align: middle;\n",
              "    }\n",
              "\n",
              "    .dataframe tbody tr th {\n",
              "        vertical-align: top;\n",
              "    }\n",
              "\n",
              "    .dataframe thead th {\n",
              "        text-align: right;\n",
              "    }\n",
              "</style>\n",
              "<table border=\"1\" class=\"dataframe\">\n",
              "  <thead>\n",
              "    <tr style=\"text-align: right;\">\n",
              "      <th></th>\n",
              "      <th>pickup_latitude_round</th>\n",
              "      <th>pickup_longitude_round</th>\n",
              "      <th>Num_Trips</th>\n",
              "    </tr>\n",
              "  </thead>\n",
              "  <tbody>\n",
              "    <tr>\n",
              "      <th>0</th>\n",
              "      <td>34.71</td>\n",
              "      <td>-75.35</td>\n",
              "      <td>1</td>\n",
              "    </tr>\n",
              "    <tr>\n",
              "      <th>1</th>\n",
              "      <td>35.31</td>\n",
              "      <td>-72.07</td>\n",
              "      <td>1</td>\n",
              "    </tr>\n",
              "    <tr>\n",
              "      <th>2</th>\n",
              "      <td>37.39</td>\n",
              "      <td>-121.93</td>\n",
              "      <td>1</td>\n",
              "    </tr>\n",
              "    <tr>\n",
              "      <th>3</th>\n",
              "      <td>37.78</td>\n",
              "      <td>-77.90</td>\n",
              "      <td>1</td>\n",
              "    </tr>\n",
              "    <tr>\n",
              "      <th>4</th>\n",
              "      <td>38.90</td>\n",
              "      <td>-77.04</td>\n",
              "      <td>1</td>\n",
              "    </tr>\n",
              "    <tr>\n",
              "      <th>...</th>\n",
              "      <td>...</td>\n",
              "      <td>...</td>\n",
              "      <td>...</td>\n",
              "    </tr>\n",
              "    <tr>\n",
              "      <th>804</th>\n",
              "      <td>42.46</td>\n",
              "      <td>-70.51</td>\n",
              "      <td>1</td>\n",
              "    </tr>\n",
              "    <tr>\n",
              "      <th>805</th>\n",
              "      <td>43.14</td>\n",
              "      <td>-72.59</td>\n",
              "      <td>1</td>\n",
              "    </tr>\n",
              "    <tr>\n",
              "      <th>806</th>\n",
              "      <td>43.49</td>\n",
              "      <td>-74.20</td>\n",
              "      <td>1</td>\n",
              "    </tr>\n",
              "    <tr>\n",
              "      <th>807</th>\n",
              "      <td>43.91</td>\n",
              "      <td>-71.88</td>\n",
              "      <td>1</td>\n",
              "    </tr>\n",
              "    <tr>\n",
              "      <th>808</th>\n",
              "      <td>51.88</td>\n",
              "      <td>-72.81</td>\n",
              "      <td>1</td>\n",
              "    </tr>\n",
              "  </tbody>\n",
              "</table>\n",
              "<p>809 rows × 3 columns</p>\n",
              "</div>\n",
              "      <button class=\"colab-df-convert\" onclick=\"convertToInteractive('df-7ac9856d-2879-4e29-bebc-baff8506a8f5')\"\n",
              "              title=\"Convert this dataframe to an interactive table.\"\n",
              "              style=\"display:none;\">\n",
              "        \n",
              "  <svg xmlns=\"http://www.w3.org/2000/svg\" height=\"24px\"viewBox=\"0 0 24 24\"\n",
              "       width=\"24px\">\n",
              "    <path d=\"M0 0h24v24H0V0z\" fill=\"none\"/>\n",
              "    <path d=\"M18.56 5.44l.94 2.06.94-2.06 2.06-.94-2.06-.94-.94-2.06-.94 2.06-2.06.94zm-11 1L8.5 8.5l.94-2.06 2.06-.94-2.06-.94L8.5 2.5l-.94 2.06-2.06.94zm10 10l.94 2.06.94-2.06 2.06-.94-2.06-.94-.94-2.06-.94 2.06-2.06.94z\"/><path d=\"M17.41 7.96l-1.37-1.37c-.4-.4-.92-.59-1.43-.59-.52 0-1.04.2-1.43.59L10.3 9.45l-7.72 7.72c-.78.78-.78 2.05 0 2.83L4 21.41c.39.39.9.59 1.41.59.51 0 1.02-.2 1.41-.59l7.78-7.78 2.81-2.81c.8-.78.8-2.07 0-2.86zM5.41 20L4 18.59l7.72-7.72 1.47 1.35L5.41 20z\"/>\n",
              "  </svg>\n",
              "      </button>\n",
              "      \n",
              "  <style>\n",
              "    .colab-df-container {\n",
              "      display:flex;\n",
              "      flex-wrap:wrap;\n",
              "      gap: 12px;\n",
              "    }\n",
              "\n",
              "    .colab-df-convert {\n",
              "      background-color: #E8F0FE;\n",
              "      border: none;\n",
              "      border-radius: 50%;\n",
              "      cursor: pointer;\n",
              "      display: none;\n",
              "      fill: #1967D2;\n",
              "      height: 32px;\n",
              "      padding: 0 0 0 0;\n",
              "      width: 32px;\n",
              "    }\n",
              "\n",
              "    .colab-df-convert:hover {\n",
              "      background-color: #E2EBFA;\n",
              "      box-shadow: 0px 1px 2px rgba(60, 64, 67, 0.3), 0px 1px 3px 1px rgba(60, 64, 67, 0.15);\n",
              "      fill: #174EA6;\n",
              "    }\n",
              "\n",
              "    [theme=dark] .colab-df-convert {\n",
              "      background-color: #3B4455;\n",
              "      fill: #D2E3FC;\n",
              "    }\n",
              "\n",
              "    [theme=dark] .colab-df-convert:hover {\n",
              "      background-color: #434B5C;\n",
              "      box-shadow: 0px 1px 3px 1px rgba(0, 0, 0, 0.15);\n",
              "      filter: drop-shadow(0px 1px 2px rgba(0, 0, 0, 0.3));\n",
              "      fill: #FFFFFF;\n",
              "    }\n",
              "  </style>\n",
              "\n",
              "      <script>\n",
              "        const buttonEl =\n",
              "          document.querySelector('#df-7ac9856d-2879-4e29-bebc-baff8506a8f5 button.colab-df-convert');\n",
              "        buttonEl.style.display =\n",
              "          google.colab.kernel.accessAllowed ? 'block' : 'none';\n",
              "\n",
              "        async function convertToInteractive(key) {\n",
              "          const element = document.querySelector('#df-7ac9856d-2879-4e29-bebc-baff8506a8f5');\n",
              "          const dataTable =\n",
              "            await google.colab.kernel.invokeFunction('convertToInteractive',\n",
              "                                                     [key], {});\n",
              "          if (!dataTable) return;\n",
              "\n",
              "          const docLinkHtml = 'Like what you see? Visit the ' +\n",
              "            '<a target=\"_blank\" href=https://colab.research.google.com/notebooks/data_table.ipynb>data table notebook</a>'\n",
              "            + ' to learn more about interactive tables.';\n",
              "          element.innerHTML = '';\n",
              "          dataTable['output_type'] = 'display_data';\n",
              "          await google.colab.output.renderOutput(dataTable, element);\n",
              "          const docLink = document.createElement('div');\n",
              "          docLink.innerHTML = docLinkHtml;\n",
              "          element.appendChild(docLink);\n",
              "        }\n",
              "      </script>\n",
              "    </div>\n",
              "  </div>\n",
              "  "
            ],
            "text/plain": [
              "     pickup_latitude_round  pickup_longitude_round  Num_Trips\n",
              "0                    34.71                  -75.35          1\n",
              "1                    35.31                  -72.07          1\n",
              "2                    37.39                 -121.93          1\n",
              "3                    37.78                  -77.90          1\n",
              "4                    38.90                  -77.04          1\n",
              "..                     ...                     ...        ...\n",
              "804                  42.46                  -70.51          1\n",
              "805                  43.14                  -72.59          1\n",
              "806                  43.49                  -74.20          1\n",
              "807                  43.91                  -71.88          1\n",
              "808                  51.88                  -72.81          1\n",
              "\n",
              "[809 rows x 3 columns]"
            ]
          },
          "execution_count": 133,
          "metadata": {},
          "output_type": "execute_result"
        }
      ],
      "source": [
        "df[\"pickup_latitude_round\"]=df['pickup_latitude'].apply(lambda x:round(x,2))\n",
        "df[\"pickup_longitude_round\"]=df['pickup_longitude'].apply(lambda x:round(x,2))\n",
        "\n",
        "df[\"dropoff_longitude_round\"]=df['dropoff_longitude'].apply(lambda x:round(x,2))\n",
        "df[\"dropoff_latitude_round\"]=df['dropoff_latitude'].apply(lambda x:round(x,2))\n",
        "\n",
        "pickup = df.groupby(['pickup_latitude_round','pickup_longitude_round'])['id'].count().reset_index().rename(columns={'id':'Num_Trips'})\n",
        "\n",
        "pickup"
      ]
    },
    {
      "cell_type": "code",
      "execution_count": null,
      "metadata": {
        "colab": {
          "base_uri": "https://localhost:8080/",
          "height": 969
        },
        "id": "O4oXdFRKE6ZZ",
        "outputId": "de3a0ca0-4e5d-4eb0-87b5-ba818d742445"
      },
      "outputs": [
        {
          "data": {
            "text/html": [
              "<div style=\"width:100%;\"><div style=\"position:relative;width:100%;height:0;padding-bottom:60%;\"><span style=\"color:#565656\">Make this Notebook Trusted to load map: File -> Trust Notebook</span><iframe srcdoc=\"&lt;!DOCTYPE html&gt;\n",
              "&lt;head&gt;    \n",
              "    &lt;meta http-equiv=&quot;content-type&quot; content=&quot;text/html; charset=UTF-8&quot; /&gt;\n",
              "    \n",
              "        &lt;script&gt;\n",
              "            L_NO_TOUCH = false;\n",
              "            L_DISABLE_3D = false;\n",
              "        &lt;/script&gt;\n",
              "    \n",
              "    &lt;style&gt;html, body {width: 100%;height: 100%;margin: 0;padding: 0;}&lt;/style&gt;\n",
              "    &lt;style&gt;#map {position:absolute;top:0;bottom:0;right:0;left:0;}&lt;/style&gt;\n",
              "    &lt;script src=&quot;https://cdn.jsdelivr.net/npm/leaflet@1.6.0/dist/leaflet.js&quot;&gt;&lt;/script&gt;\n",
              "    &lt;script src=&quot;https://code.jquery.com/jquery-1.12.4.min.js&quot;&gt;&lt;/script&gt;\n",
              "    &lt;script src=&quot;https://maxcdn.bootstrapcdn.com/bootstrap/3.2.0/js/bootstrap.min.js&quot;&gt;&lt;/script&gt;\n",
              "    &lt;script src=&quot;https://cdnjs.cloudflare.com/ajax/libs/Leaflet.awesome-markers/2.0.2/leaflet.awesome-markers.js&quot;&gt;&lt;/script&gt;\n",
              "    &lt;link rel=&quot;stylesheet&quot; href=&quot;https://cdn.jsdelivr.net/npm/leaflet@1.6.0/dist/leaflet.css&quot;/&gt;\n",
              "    &lt;link rel=&quot;stylesheet&quot; href=&quot;https://maxcdn.bootstrapcdn.com/bootstrap/3.2.0/css/bootstrap.min.css&quot;/&gt;\n",
              "    &lt;link rel=&quot;stylesheet&quot; href=&quot;https://maxcdn.bootstrapcdn.com/bootstrap/3.2.0/css/bootstrap-theme.min.css&quot;/&gt;\n",
              "    &lt;link rel=&quot;stylesheet&quot; href=&quot;https://maxcdn.bootstrapcdn.com/font-awesome/4.6.3/css/font-awesome.min.css&quot;/&gt;\n",
              "    &lt;link rel=&quot;stylesheet&quot; href=&quot;https://cdnjs.cloudflare.com/ajax/libs/Leaflet.awesome-markers/2.0.2/leaflet.awesome-markers.css&quot;/&gt;\n",
              "    &lt;link rel=&quot;stylesheet&quot; href=&quot;https://cdn.jsdelivr.net/gh/python-visualization/folium/folium/templates/leaflet.awesome.rotate.min.css&quot;/&gt;\n",
              "    \n",
              "            &lt;meta name=&quot;viewport&quot; content=&quot;width=device-width,\n",
              "                initial-scale=1.0, maximum-scale=1.0, user-scalable=no&quot; /&gt;\n",
              "            &lt;style&gt;\n",
              "                #map_2a476821b1cb83718d2dd9f414fd2227 {\n",
              "                    position: relative;\n",
              "                    width: 100.0%;\n",
              "                    height: 100.0%;\n",
              "                    left: 0.0%;\n",
              "                    top: 0.0%;\n",
              "                }\n",
              "            &lt;/style&gt;\n",
              "        \n",
              "    &lt;script src=&quot;https://cdn.jsdelivr.net/gh/python-visualization/folium@master/folium/templates/leaflet_heat.min.js&quot;&gt;&lt;/script&gt;\n",
              "&lt;/head&gt;\n",
              "&lt;body&gt;    \n",
              "    \n",
              "            &lt;div class=&quot;folium-map&quot; id=&quot;map_2a476821b1cb83718d2dd9f414fd2227&quot; &gt;&lt;/div&gt;\n",
              "        \n",
              "&lt;/body&gt;\n",
              "&lt;script&gt;    \n",
              "    \n",
              "            var map_2a476821b1cb83718d2dd9f414fd2227 = L.map(\n",
              "                &quot;map_2a476821b1cb83718d2dd9f414fd2227&quot;,\n",
              "                {\n",
              "                    center: [40.73061, -73.935242],\n",
              "                    crs: L.CRS.EPSG3857,\n",
              "                    zoom: 10,\n",
              "                    zoomControl: true,\n",
              "                    preferCanvas: false,\n",
              "                }\n",
              "            );\n",
              "\n",
              "            \n",
              "\n",
              "        \n",
              "    \n",
              "            var tile_layer_955b849816d8874780e4a416f4ce6fa8 = L.tileLayer(\n",
              "                &quot;https://{s}.tile.openstreetmap.org/{z}/{x}/{y}.png&quot;,\n",
              "                {&quot;attribution&quot;: &quot;Data by \\u0026copy; \\u003ca href=\\&quot;http://openstreetmap.org\\&quot;\\u003eOpenStreetMap\\u003c/a\\u003e, under \\u003ca href=\\&quot;http://www.openstreetmap.org/copyright\\&quot;\\u003eODbL\\u003c/a\\u003e.&quot;, &quot;detectRetina&quot;: false, &quot;maxNativeZoom&quot;: 18, &quot;maxZoom&quot;: 18, &quot;minZoom&quot;: 0, &quot;noWrap&quot;: false, &quot;opacity&quot;: 1, &quot;subdomains&quot;: &quot;abc&quot;, &quot;tms&quot;: false}\n",
              "            ).addTo(map_2a476821b1cb83718d2dd9f414fd2227);\n",
              "        \n",
              "    \n",
              "            var heat_map_1f2b247ef43628bf29459cd03126d6cb = L.heatLayer(\n",
              "                [[34.71, -75.35, 1.0], [35.31, -72.07, 1.0], [37.39, -121.93, 1.0], [37.78, -77.9, 1.0], [38.9, -77.04, 1.0], [39.46, -65.9, 1.0], [39.8, -75.46, 1.0], [39.92, -75.24, 1.0], [40.1, -74.73, 1.0], [40.3, -74.0, 1.0], [40.36, -74.61, 1.0], [40.39, -74.58, 1.0], [40.4, -74.1, 1.0], [40.41, -74.08, 1.0], [40.43, -74.3, 1.0], [40.43, -74.07, 1.0], [40.45, -74.32, 1.0], [40.45, -74.08, 1.0], [40.46, -74.05, 1.0], [40.47, -74.25, 1.0], [40.5, -74.45, 1.0], [40.52, -74.18, 1.0], [40.52, -73.75, 1.0], [40.53, -74.36, 1.0], [40.53, -74.32, 1.0], [40.53, -73.99, 1.0], [40.53, -73.75, 1.0], [40.55, -74.35, 1.0], [40.55, -74.0, 2.0], [40.55, -73.84, 1.0], [40.57, -74.0, 1.0], [40.57, -73.97, 1.0], [40.57, -73.84, 1.0], [40.58, -74.29, 1.0], [40.58, -74.23, 1.0], [40.58, -74.0, 1.0], [40.58, -73.98, 5.0], [40.58, -73.97, 2.0], [40.58, -73.96, 5.0], [40.58, -73.95, 2.0], [40.58, -73.87, 1.0], [40.58, -73.83, 1.0], [40.59, -73.99, 2.0], [40.59, -73.98, 1.0], [40.59, -73.95, 1.0], [40.59, -73.93, 1.0], [40.59, -73.79, 2.0], [40.59, -73.68, 1.0], [40.6, -74.07, 1.0], [40.6, -74.05, 3.0], [40.6, -74.03, 1.0], [40.6, -74.0, 5.0], [40.6, -73.99, 2.0], [40.6, -73.98, 2.0], [40.6, -73.97, 6.0], [40.6, -73.96, 4.0], [40.6, -73.95, 2.0], [40.6, -73.94, 4.0], [40.6, -73.75, 1.0], [40.61, -74.08, 2.0], [40.61, -74.07, 3.0], [40.61, -74.03, 3.0], [40.61, -74.0, 2.0], [40.61, -73.98, 1.0], [40.61, -73.97, 2.0], [40.61, -73.96, 1.0], [40.61, -73.95, 2.0], [40.61, -73.94, 1.0], [40.61, -73.92, 2.0], [40.61, -73.77, 1.0], [40.62, -74.4, 1.0], [40.62, -74.08, 2.0], [40.62, -74.07, 2.0], [40.62, -74.04, 3.0], [40.62, -74.03, 11.0], [40.62, -74.02, 3.0], [40.62, -74.01, 2.0], [40.62, -74.0, 4.0], [40.62, -73.99, 2.0], [40.62, -73.98, 3.0], [40.62, -73.97, 8.0], [40.62, -73.96, 4.0], [40.62, -73.95, 1.0], [40.62, -73.94, 1.0], [40.62, -73.93, 5.0], [40.62, -73.92, 1.0], [40.62, -73.77, 1.0], [40.63, -74.09, 3.0], [40.63, -74.08, 1.0], [40.63, -74.04, 3.0], [40.63, -74.03, 4.0], [40.63, -74.02, 8.0], [40.63, -74.01, 7.0], [40.63, -73.98, 5.0], [40.63, -73.97, 23.0], [40.63, -73.96, 4.0], [40.63, -73.95, 9.0], [40.63, -73.94, 4.0], [40.63, -73.93, 5.0], [40.63, -73.92, 5.0], [40.63, -73.91, 4.0], [40.63, -73.9, 2.0], [40.63, -73.89, 1.0], [40.63, -73.88, 1.0], [40.63, -73.79, 1.0], [40.64, -74.14, 1.0], [40.64, -74.09, 12.0], [40.64, -74.07, 1.0], [40.64, -74.04, 1.0], [40.64, -74.03, 2.0], [40.64, -74.02, 16.0], [40.64, -74.01, 2.0], [40.64, -74.0, 2.0], [40.64, -73.99, 3.0], [40.64, -73.98, 19.0], [40.64, -73.97, 42.0], [40.64, -73.96, 20.0], [40.64, -73.95, 15.0], [40.64, -73.94, 5.0], [40.64, -73.93, 2.0], [40.64, -73.92, 1.0], [40.64, -73.91, 4.0], [40.64, -73.9, 5.0], [40.64, -73.89, 2.0], [40.64, -73.8, 57.0], [40.64, -73.79, 3107.0], [40.64, -73.78, 4488.0], [40.65, -74.58, 1.0], [40.65, -74.19, 1.0], [40.65, -74.02, 3.0], [40.65, -74.01, 21.0], [40.65, -74.0, 17.0], [40.65, -73.99, 2.0], [40.65, -73.98, 11.0], [40.65, -73.97, 26.0], [40.65, -73.96, 48.0], [40.65, -73.95, 16.0], [40.65, -73.94, 2.0], [40.65, -73.93, 1.0], [40.65, -73.92, 2.0], [40.65, -73.91, 4.0], [40.65, -73.9, 2.0], [40.65, -73.89, 3.0], [40.65, -73.87, 1.0], [40.65, -73.84, 1.0], [40.65, -73.83, 1.0], [40.65, -73.81, 39.0], [40.65, -73.8, 121.0], [40.65, -73.79, 2975.0], [40.65, -73.78, 4935.0], [40.65, -73.73, 1.0], [40.66, -74.17, 1.0], [40.66, -74.07, 2.0], [40.66, -74.01, 4.0], [40.66, -74.0, 37.0], [40.66, -73.99, 59.0], [40.66, -73.98, 47.0], [40.66, -73.97, 2.0], [40.66, -73.96, 105.0], [40.66, -73.95, 26.0], [40.66, -73.94, 5.0], [40.66, -73.93, 11.0], [40.66, -73.92, 10.0], [40.66, -73.91, 4.0], [40.66, -73.9, 4.0], [40.66, -73.89, 3.0], [40.66, -73.88, 2.0], [40.66, -73.86, 1.0], [40.66, -73.82, 1.0], [40.66, -73.81, 47.0], [40.66, -73.8, 34.0], [40.66, -73.79, 130.0], [40.66, -73.77, 2.0], [40.66, -73.76, 1.0], [40.66, -73.73, 1.0], [40.66, -73.65, 1.0], [40.66, -73.61, 1.0], [40.67, -74.14, 1.0], [40.67, -74.08, 1.0], [40.67, -74.02, 1.0], [40.67, -74.01, 6.0], [40.67, -74.0, 57.0], [40.67, -73.99, 263.0], [40.67, -73.98, 148.0], [40.67, -73.97, 51.0], [40.67, -73.96, 107.0], [40.67, -73.95, 55.0], [40.67, -73.94, 25.0], [40.67, -73.93, 21.0], [40.67, -73.92, 9.0], [40.67, -73.91, 11.0], [40.67, -73.9, 4.0], [40.67, -73.89, 3.0], [40.67, -73.88, 1.0], [40.67, -73.87, 3.0], [40.67, -73.86, 3.0], [40.67, -73.85, 2.0], [40.67, -73.84, 2.0], [40.67, -73.83, 8.0], [40.67, -73.82, 2.0], [40.67, -73.81, 6.0], [40.67, -73.8, 106.0], [40.67, -73.79, 16.0], [40.67, -73.78, 4.0], [40.67, -73.77, 3.0], [40.67, -73.76, 1.0], [40.67, -73.75, 1.0], [40.67, -73.65, 1.0], [40.67, -73.55, 1.0], [40.68, -74.16, 1.0], [40.68, -74.11, 17.0], [40.68, -74.1, 12.0], [40.68, -74.05, 1.0], [40.68, -74.02, 4.0], [40.68, -74.01, 42.0], [40.68, -74.0, 515.0], [40.68, -73.99, 202.0], [40.68, -73.98, 932.0], [40.68, -73.97, 434.0], [40.68, -73.96, 162.0], [40.68, -73.95, 121.0], [40.68, -73.94, 63.0], [40.68, -73.93, 25.0], [40.68, -73.92, 15.0], [40.68, -73.91, 16.0], [40.68, -73.9, 7.0], [40.68, -73.89, 2.0], [40.68, -73.88, 1.0], [40.68, -73.87, 7.0], [40.68, -73.86, 1.0], [40.68, -73.85, 1.0], [40.68, -73.84, 5.0], [40.68, -73.83, 3.0], [40.68, -73.82, 15.0], [40.68, -73.81, 15.0], [40.68, -73.8, 41.0], [40.68, -73.79, 1.0], [40.68, -73.78, 3.0], [40.68, -73.77, 1.0], [40.68, -73.75, 1.0], [40.68, -73.73, 1.0], [40.68, -73.72, 1.0], [40.68, -73.64, 1.0], [40.68, -73.59, 1.0], [40.68, -73.56, 1.0], [40.69, -74.19, 1.0], [40.69, -74.18, 36.0], [40.69, -74.11, 1.0], [40.69, -74.07, 1.0], [40.69, -74.02, 1.0], [40.69, -74.01, 1.0], [40.69, -74.0, 396.0], [40.69, -73.99, 1350.0], [40.69, -73.98, 946.0], [40.69, -73.97, 356.0], [40.69, -73.96, 188.0], [40.69, -73.95, 111.0], [40.69, -73.94, 57.0], [40.69, -73.93, 52.0], [40.69, -73.92, 30.0], [40.69, -73.91, 11.0], [40.69, -73.9, 2.0], [40.69, -73.88, 1.0], [40.69, -73.87, 1.0], [40.69, -73.86, 2.0], [40.69, -73.85, 14.0], [40.69, -73.84, 3.0], [40.69, -73.83, 9.0], [40.69, -73.82, 9.0], [40.69, -73.81, 51.0], [40.69, -73.79, 2.0], [40.69, -73.78, 3.0], [40.69, -73.59, 1.0], [40.69, -73.54, 1.0], [40.7, -74.19, 1.0], [40.7, -74.18, 19.0], [40.7, -74.1, 1.0], [40.7, -74.09, 1.0], [40.7, -74.05, 2.0], [40.7, -74.03, 2.0], [40.7, -74.02, 353.0], [40.7, -74.01, 3771.0], [40.7, -74.0, 57.0], [40.7, -73.99, 803.0], [40.7, -73.98, 224.0], [40.7, -73.97, 42.0], [40.7, -73.96, 70.0], [40.7, -73.95, 58.0], [40.7, -73.94, 163.0], [40.7, -73.93, 177.0], [40.7, -73.92, 49.0], [40.7, -73.91, 32.0], [40.7, -73.9, 6.0], [40.7, -73.89, 3.0], [40.7, -73.87, 1.0], [40.7, -73.86, 3.0], [40.7, -73.84, 1.0], [40.7, -73.83, 3.0], [40.7, -73.82, 32.0], [40.7, -73.81, 30.0], [40.7, -73.8, 4.0], [40.7, -73.79, 1.0], [40.7, -73.75, 1.0], [40.7, -73.67, 1.0], [40.7, -73.46, 1.0], [40.7, -73.33, 1.0], [40.71, -74.17, 4.0], [40.71, -74.16, 2.0], [40.71, -74.04, 1.0], [40.71, -74.03, 2.0], [40.71, -74.02, 4013.0], [40.71, -74.01, 12452.0], [40.71, -74.0, 2910.0], [40.71, -73.99, 792.0], [40.71, -73.98, 158.0], [40.71, -73.97, 144.0], [40.71, -73.96, 1100.0], [40.71, -73.95, 586.0], [40.71, -73.94, 298.0], [40.71, -73.93, 71.0], [40.71, -73.92, 57.0], [40.71, -73.91, 6.0], [40.71, -73.9, 8.0], [40.71, -73.89, 2.0], [40.71, -73.88, 3.0], [40.71, -73.86, 4.0], [40.71, -73.84, 5.0], [40.71, -73.83, 27.0], [40.71, -73.82, 35.0], [40.71, -73.81, 7.0], [40.71, -73.8, 21.0], [40.71, -73.79, 3.0], [40.71, -73.78, 2.0], [40.71, -73.77, 1.0], [40.71, -73.75, 1.0], [40.71, -73.74, 1.0], [40.71, -73.72, 1.0], [40.71, -73.69, 1.0], [40.71, -73.4, 1.0], [40.72, -74.36, 1.0], [40.72, -74.18, 1.0], [40.72, -74.15, 1.0], [40.72, -74.07, 1.0], [40.72, -74.06, 2.0], [40.72, -74.05, 5.0], [40.72, -74.04, 15.0], [40.72, -74.03, 5.0], [40.72, -74.02, 975.0], [40.72, -74.01, 10395.0], [40.72, -74.0, 13811.0], [40.72, -73.99, 17054.0], [40.72, -73.98, 3032.0], [40.72, -73.97, 19.0], [40.72, -73.96, 828.0], [40.72, -73.95, 382.0], [40.72, -73.94, 78.0], [40.72, -73.93, 3.0], [40.72, -73.91, 3.0], [40.72, -73.9, 4.0], [40.72, -73.89, 3.0], [40.72, -73.87, 10.0], [40.72, -73.86, 7.0], [40.72, -73.85, 33.0], [40.72, -73.84, 56.0], [40.72, -73.83, 24.0], [40.72, -73.82, 10.0], [40.72, -73.81, 5.0], [40.72, -73.8, 2.0], [40.72, -73.79, 4.0], [40.72, -73.78, 1.0], [40.72, -73.77, 4.0], [40.72, -73.76, 24.0], [40.72, -73.74, 1.0], [40.72, -73.72, 1.0], [40.72, -73.58, 2.0], [40.72, -73.42, 1.0], [40.73, -74.09, 1.0], [40.73, -74.07, 3.0], [40.73, -74.06, 2.0], [40.73, -74.05, 2.0], [40.73, -74.04, 13.0], [40.73, -74.03, 8.0], [40.73, -74.02, 2.0], [40.73, -74.01, 7081.0], [40.73, -74.0, 22258.0], [40.73, -73.99, 25558.0], [40.73, -73.98, 11648.0], [40.73, -73.97, 304.0], [40.73, -73.96, 77.0], [40.73, -73.95, 243.0], [40.73, -73.94, 16.0], [40.73, -73.93, 5.0], [40.73, -73.92, 15.0], [40.73, -73.91, 17.0], [40.73, -73.9, 20.0], [40.73, -73.89, 12.0], [40.73, -73.88, 9.0], [40.73, -73.87, 76.0], [40.73, -73.86, 51.0], [40.73, -73.85, 19.0], [40.73, -73.84, 14.0], [40.73, -73.83, 4.0], [40.73, -73.82, 4.0], [40.73, -73.81, 1.0], [40.73, -73.8, 2.0], [40.73, -73.78, 1.0], [40.73, -73.77, 3.0], [40.73, -73.76, 1.0], [40.73, -73.74, 1.0], [40.73, -73.72, 1.0], [40.73, -73.68, 1.0], [40.73, -73.41, 1.0], [40.74, -74.35, 1.0], [40.74, -74.09, 1.0], [40.74, -74.07, 1.0], [40.74, -74.06, 2.0], [40.74, -74.04, 7.0], [40.74, -74.03, 14.0], [40.74, -74.01, 11216.0], [40.74, -74.0, 21788.0], [40.74, -73.99, 33009.0], [40.74, -73.98, 20862.0], [40.74, -73.97, 2621.0], [40.74, -73.96, 52.0], [40.74, -73.95, 264.0], [40.74, -73.94, 47.0], [40.74, -73.93, 293.0], [40.74, -73.92, 698.0], [40.74, -73.91, 99.0], [40.74, -73.9, 136.0], [40.74, -73.89, 52.0], [40.74, -73.88, 90.0], [40.74, -73.87, 20.0], [40.74, -73.86, 13.0], [40.74, -73.85, 29.0], [40.74, -73.84, 20.0], [40.74, -73.83, 3.0], [40.74, -73.82, 9.0], [40.74, -73.81, 2.0], [40.74, -73.79, 3.0], [40.74, -73.78, 2.0], [40.74, -73.75, 1.0], [40.74, -73.74, 1.0], [40.74, -73.72, 3.0], [40.74, -73.71, 2.0], [40.74, -73.64, 1.0], [40.74, -73.61, 1.0], [40.74, -73.59, 1.0], [40.75, -74.13, 1.0], [40.75, -74.05, 1.0], [40.75, -74.04, 4.0], [40.75, -74.03, 13.0], [40.75, -74.02, 3.0], [40.75, -74.01, 2815.0], [40.75, -74.0, 12291.0], [40.75, -73.99, 45060.0], [40.75, -73.98, 36368.0], [40.75, -73.97, 16145.0], [40.75, -73.96, 237.0], [40.75, -73.95, 360.0], [40.75, -73.94, 879.0], [40.75, -73.93, 216.0], [40.75, -73.92, 149.0], [40.75, -73.91, 193.0], [40.75, -73.9, 223.0], [40.75, -73.89, 195.0], [40.75, -73.88, 88.0], [40.75, -73.87, 23.0], [40.75, -73.86, 11.0], [40.75, -73.85, 2.0], [40.75, -73.83, 4.0], [40.75, -73.82, 2.0], [40.75, -73.8, 1.0], [40.75, -73.7, 1.0], [40.75, -73.65, 2.0], [40.75, -73.56, 1.0], [40.76, -74.22, 1.0], [40.76, -74.07, 1.0], [40.76, -74.05, 1.0], [40.76, -74.04, 2.0], [40.76, -74.03, 2.0], [40.76, -74.02, 6.0], [40.76, -74.01, 5.0], [40.76, -74.0, 8131.0], [40.76, -73.99, 32986.0], [40.76, -73.98, 38723.0], [40.76, -73.97, 45391.0], [40.76, -73.96, 12720.0], [40.76, -73.95, 1083.0], [40.76, -73.94, 290.0], [40.76, -73.93, 516.0], [40.76, -73.92, 448.0], [40.76, -73.91, 86.0], [40.76, -73.9, 64.0], [40.76, -73.89, 63.0], [40.76, -73.88, 127.0], [40.76, -73.87, 20.0], [40.76, -73.86, 21.0], [40.76, -73.85, 5.0], [40.76, -73.84, 5.0], [40.76, -73.83, 28.0], [40.76, -73.82, 7.0], [40.76, -73.81, 1.0], [40.76, -73.8, 2.0], [40.76, -73.78, 1.0], [40.76, -73.77, 3.0], [40.76, -73.69, 1.0], [40.76, -73.55, 1.0], [40.76, -73.49, 1.0], [40.76, -73.43, 1.0], [40.77, -74.33, 1.0], [40.77, -74.21, 1.0], [40.77, -74.09, 1.0], [40.77, -74.08, 1.0], [40.77, -74.05, 1.0], [40.77, -74.03, 2.0], [40.77, -74.02, 6.0], [40.77, -74.0, 525.0], [40.77, -73.99, 9062.0], [40.77, -73.98, 23970.0], [40.77, -73.97, 9509.0], [40.77, -73.96, 25613.0], [40.77, -73.95, 14055.0], [40.77, -73.94, 54.0], [40.77, -73.93, 443.0], [40.77, -73.92, 480.0], [40.77, -73.91, 262.0], [40.77, -73.9, 81.0], [40.77, -73.89, 701.0], [40.77, -73.88, 264.0], [40.77, -73.87, 9968.0], [40.77, -73.86, 7664.0], [40.77, -73.85, 1.0], [40.77, -73.84, 1.0], [40.77, -73.83, 7.0], [40.77, -73.82, 1.0], [40.77, -73.77, 1.0], [40.77, -73.73, 1.0], [40.77, -73.66, 1.0], [40.77, -73.53, 2.0], [40.77, -73.48, 1.0], [40.78, -74.06, 2.0], [40.78, -74.02, 2.0], [40.78, -74.01, 2.0], [40.78, -74.0, 1.0], [40.78, -73.99, 2440.0], [40.78, -73.98, 17970.0], [40.78, -73.97, 3971.0], [40.78, -73.96, 19540.0], [40.78, -73.95, 18815.0], [40.78, -73.94, 944.0], [40.78, -73.93, 6.0], [40.78, -73.92, 53.0], [40.78, -73.91, 79.0], [40.78, -73.9, 4.0], [40.78, -73.87, 4.0], [40.78, -73.85, 2.0], [40.78, -73.83, 1.0], [40.78, -73.82, 1.0], [40.78, -73.56, 1.0], [40.78, -73.42, 1.0], [40.79, -74.2, 1.0], [40.79, -74.19, 1.0], [40.79, -74.05, 2.0], [40.79, -74.04, 1.0], [40.79, -74.02, 3.0], [40.79, -74.01, 1.0], [40.79, -74.0, 1.0], [40.79, -73.98, 6952.0], [40.79, -73.97, 12779.0], [40.79, -73.96, 2076.0], [40.79, -73.95, 4518.0], [40.79, -73.94, 1409.0], [40.79, -73.93, 31.0], [40.79, -73.92, 13.0], [40.79, -73.88, 1.0], [40.79, -73.84, 2.0], [40.79, -73.81, 1.0], [40.79, -73.77, 1.0], [40.79, -73.73, 1.0], [40.8, -74.46, 1.0], [40.8, -74.12, 1.0], [40.8, -74.1, 1.0], [40.8, -74.07, 1.0], [40.8, -74.06, 1.0], [40.8, -74.0, 1.0], [40.8, -73.98, 21.0], [40.8, -73.97, 6164.0], [40.8, -73.96, 2978.0], [40.8, -73.95, 1106.0], [40.8, -73.94, 1476.0], [40.8, -73.93, 311.0], [40.8, -73.92, 20.0], [40.8, -73.91, 5.0], [40.8, -73.87, 1.0], [40.8, -73.83, 1.0], [40.8, -73.75, 1.0], [40.8, -73.68, 1.0], [40.8, -73.65, 1.0], [40.81, -74.29, 1.0], [40.81, -74.21, 1.0], [40.81, -74.14, 1.0], [40.81, -74.1, 1.0], [40.81, -74.08, 1.0], [40.81, -73.97, 481.0], [40.81, -73.96, 2157.0], [40.81, -73.95, 1106.0], [40.81, -73.94, 814.0], [40.81, -73.93, 109.0], [40.81, -73.92, 37.0], [40.81, -73.91, 5.0], [40.81, -73.9, 3.0], [40.81, -73.83, 1.0], [40.81, -73.81, 1.0], [40.82, -78.55, 1.0], [40.82, -74.17, 1.0], [40.82, -74.1, 1.0], [40.82, -74.0, 1.0], [40.82, -73.96, 541.0], [40.82, -73.95, 662.0], [40.82, -73.94, 410.0], [40.82, -73.93, 45.0], [40.82, -73.92, 33.0], [40.82, -73.91, 19.0], [40.82, -73.9, 3.0], [40.82, -73.89, 5.0], [40.82, -73.88, 1.0], [40.82, -73.64, 1.0], [40.83, -74.21, 1.0], [40.83, -74.2, 2.0], [40.83, -74.08, 1.0], [40.83, -74.03, 1.0], [40.83, -73.98, 1.0], [40.83, -73.96, 2.0], [40.83, -73.95, 578.0], [40.83, -73.94, 181.0], [40.83, -73.93, 31.0], [40.83, -73.92, 58.0], [40.83, -73.91, 8.0], [40.83, -73.9, 5.0], [40.83, -73.89, 6.0], [40.83, -73.88, 3.0], [40.83, -73.87, 1.0], [40.83, -73.86, 12.0], [40.83, -73.85, 9.0], [40.83, -73.84, 1.0], [40.83, -73.6, 1.0], [40.83, -73.24, 1.0], [40.84, -74.16, 1.0], [40.84, -74.11, 1.0], [40.84, -74.1, 1.0], [40.84, -73.99, 1.0], [40.84, -73.95, 15.0], [40.84, -73.94, 411.0], [40.84, -73.93, 3.0], [40.84, -73.92, 32.0], [40.84, -73.91, 10.0], [40.84, -73.9, 8.0], [40.84, -73.89, 1.0], [40.84, -73.88, 4.0], [40.84, -73.87, 6.0], [40.84, -73.86, 5.0], [40.84, -73.85, 2.0], [40.84, -73.83, 2.0], [40.85, -74.07, 1.0], [40.85, -73.94, 185.0], [40.85, -73.93, 46.0], [40.85, -73.92, 4.0], [40.85, -73.91, 11.0], [40.85, -73.9, 8.0], [40.85, -73.89, 4.0], [40.85, -73.88, 3.0], [40.85, -73.87, 4.0], [40.85, -73.86, 2.0], [40.85, -73.85, 2.0], [40.85, -73.84, 1.0], [40.85, -73.79, 1.0], [40.85, -73.69, 1.0], [40.86, -74.02, 2.0], [40.86, -74.01, 1.0], [40.86, -73.97, 3.0], [40.86, -73.94, 13.0], [40.86, -73.93, 47.0], [40.86, -73.92, 10.0], [40.86, -73.91, 4.0], [40.86, -73.9, 8.0], [40.86, -73.89, 1.0], [40.86, -73.88, 1.0], [40.86, -73.87, 2.0], [40.87, -74.1, 1.0], [40.87, -74.02, 1.0], [40.87, -74.0, 1.0], [40.87, -73.93, 56.0], [40.87, -73.92, 45.0], [40.87, -73.91, 19.0], [40.87, -73.9, 4.0], [40.87, -73.89, 1.0], [40.87, -73.88, 4.0], [40.87, -73.87, 2.0], [40.87, -73.86, 2.0], [40.87, -73.84, 3.0], [40.87, -73.83, 1.0], [40.87, -73.82, 2.0], [40.88, -74.05, 1.0], [40.88, -74.03, 2.0], [40.88, -74.02, 5.0], [40.88, -74.01, 1.0], [40.88, -74.0, 2.0], [40.88, -73.92, 2.0], [40.88, -73.91, 11.0], [40.88, -73.9, 4.0], [40.88, -73.89, 3.0], [40.88, -73.88, 5.0], [40.88, -73.87, 2.0], [40.88, -73.86, 5.0], [40.88, -73.84, 1.0], [40.88, -73.83, 1.0], [40.88, -72.42, 1.0], [40.89, -74.26, 1.0], [40.89, -74.08, 1.0], [40.89, -73.97, 1.0], [40.89, -73.91, 2.0], [40.89, -73.9, 4.0], [40.89, -73.89, 1.0], [40.89, -73.86, 6.0], [40.89, -73.85, 1.0], [40.89, -73.83, 1.0], [40.9, -74.26, 1.0], [40.9, -74.01, 1.0], [40.9, -73.91, 1.0], [40.9, -73.9, 2.0], [40.9, -73.88, 1.0], [40.9, -73.87, 3.0], [40.9, -73.86, 1.0], [40.9, -73.85, 1.0], [40.9, -73.81, 1.0], [40.9, -73.8, 1.0], [40.9, -73.79, 1.0], [40.9, -73.77, 1.0], [40.9, -73.63, 1.0], [40.9, -73.45, 1.0], [40.9, -73.43, 1.0], [40.91, -74.18, 1.0], [40.91, -74.01, 1.0], [40.91, -73.97, 1.0], [40.91, -73.87, 1.0], [40.91, -73.86, 1.0], [40.91, -73.78, 2.0], [40.92, -73.97, 1.0], [40.92, -73.96, 1.0], [40.92, -73.89, 1.0], [40.92, -73.87, 1.0], [40.92, -73.86, 1.0], [40.92, -73.79, 1.0], [40.93, -74.04, 1.0], [40.93, -73.85, 1.0], [40.93, -73.74, 1.0], [40.94, -73.96, 1.0], [40.94, -73.89, 1.0], [40.94, -73.79, 1.0], [40.94, -73.76, 1.0], [40.95, -73.83, 1.0], [40.95, -73.78, 1.0], [40.95, -73.72, 1.0], [40.95, -73.09, 1.0], [40.96, -73.88, 1.0], [40.98, -74.17, 1.0], [40.98, -74.1, 1.0], [40.98, -73.7, 1.0], [40.99, -73.83, 1.0], [40.99, -73.76, 1.0], [40.99, -73.75, 1.0], [40.99, -73.67, 1.0], [41.0, -73.81, 1.0], [41.0, -73.8, 1.0], [41.02, -74.18, 1.0], [41.02, -73.78, 1.0], [41.02, -73.67, 1.0], [41.02, -73.65, 1.0], [41.03, -73.98, 1.0], [41.03, -73.77, 1.0], [41.03, -73.76, 1.0], [41.03, -73.6, 1.0], [41.04, -73.98, 1.0], [41.04, -73.8, 1.0], [41.04, -73.77, 1.0], [41.05, -73.86, 1.0], [41.05, -73.54, 1.0], [41.06, -74.09, 1.0], [41.07, -73.55, 1.0], [41.09, -73.52, 1.0], [41.11, -73.8, 1.0], [41.11, -73.72, 2.0], [41.12, -73.37, 1.0], [41.16, -73.77, 1.0], [41.17, -73.31, 1.0], [41.19, -73.88, 1.0], [41.19, -73.85, 1.0], [41.22, -73.9, 1.0], [41.26, -73.69, 1.0], [41.29, -73.68, 2.0], [41.32, -74.13, 1.0], [41.32, -73.9, 1.0], [41.59, -79.57, 1.0], [42.46, -70.51, 1.0], [43.14, -72.59, 1.0], [43.49, -74.2, 1.0], [43.91, -71.88, 1.0], [51.88, -72.81, 1.0]],\n",
              "                {&quot;blur&quot;: 10, &quot;maxZoom&quot;: 1, &quot;minOpacity&quot;: 0.3, &quot;radius&quot;: 5}\n",
              "            ).addTo(map_2a476821b1cb83718d2dd9f414fd2227);\n",
              "        \n",
              "&lt;/script&gt;\" style=\"position:absolute;width:100%;height:100%;left:0;top:0;border:none !important;\" allowfullscreen webkitallowfullscreen mozallowfullscreen></iframe></div></div>"
            ],
            "text/plain": [
              "<folium.folium.Map at 0x7efcac6b5f90>"
            ]
          },
          "execution_count": 134,
          "metadata": {},
          "output_type": "execute_result"
        }
      ],
      "source": [
        "import folium\n",
        "from folium.plugins import HeatMap\n",
        "\n",
        "# Setting up new york coordinates\n",
        "pickup_map = folium.Map(location = [40.730610,-73.935242], zoom_start = 10)\n",
        "\n",
        "heatmap = HeatMap(list(zip(pickup.pickup_latitude_round.values, \n",
        "                           pickup.pickup_longitude_round.values,\n",
        "                           pickup.Num_Trips.values.astype(float))),\n",
        "                  min_opacity = 0.3,\n",
        "                  radius = 5, blur = 10,\n",
        "                  max_zoom = 1)\n",
        "\n",
        "pickup_map.add_child(heatmap)\n",
        "\n",
        "pickup_map"
      ]
    },
    {
      "cell_type": "code",
      "execution_count": null,
      "metadata": {
        "id": "mC3Zh70cLYxn"
      },
      "outputs": [],
      "source": []
    }
  ],
  "metadata": {
    "colab": {
      "provenance": []
    },
    "kernelspec": {
      "display_name": "Python 3",
      "name": "python3"
    },
    "language_info": {
      "name": "python"
    }
  },
  "nbformat": 4,
  "nbformat_minor": 0
}